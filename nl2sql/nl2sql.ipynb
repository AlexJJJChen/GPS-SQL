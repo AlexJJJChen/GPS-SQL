{
 "cells": [
  {
   "cell_type": "code",
   "execution_count": 1,
   "metadata": {
    "scrolled": true
   },
   "outputs": [],
   "source": [
    "import os\n",
    "import openai"
   ]
  },
  {
   "cell_type": "code",
   "execution_count": 2,
   "metadata": {},
   "outputs": [],
   "source": [
    "os.environ[\"OPENAI_API_KEY\"] = \"sk-4NfQ6e8e4BwaNF8bE64150E16c3e4dC897278eEb8209E5C8\"\n",
    "openai.api_key = os.environ[\"OPENAI_API_KEY\"]\n",
    "\n",
    "openai.api_base = \"https://api.xhrai.com/v1\"\n",
    "api_key=\"sk-4NfQ6e8e4BwaNF8bE64150E16c3e4dC897278eEb8209E5C8\"\n",
    "api_base = \"https://api.xhrai.com/v1\""
   ]
  },
  {
   "cell_type": "code",
   "execution_count": 3,
   "metadata": {},
   "outputs": [],
   "source": [
    "from IPython.display import Markdown, display"
   ]
  },
  {
   "cell_type": "code",
   "execution_count": 4,
   "metadata": {},
   "outputs": [],
   "source": [
    "from sqlalchemy import (\n",
    "    create_engine,\n",
    "    MetaData,\n",
    "    Table,\n",
    "    Column,\n",
    "    String,\n",
    "    Integer,\n",
    "    Float,\n",
    "    select,\n",
    ")"
   ]
  },
  {
   "cell_type": "code",
   "execution_count": 5,
   "metadata": {},
   "outputs": [],
   "source": [
    "engine = create_engine(\"sqlite:///:memory:\")\n",
    "metadata_obj = MetaData()"
   ]
  },
  {
   "cell_type": "code",
   "execution_count": 6,
   "metadata": {},
   "outputs": [],
   "source": [
    "# create city SQL table\n",
    "table_name = \"bop_test_cases\"\n",
    "bop_test_cases = Table(\n",
    "    table_name,\n",
    "    metadata_obj,\n",
    "    Column(\"id\", Integer, primary_key=True, autoincrement=True),\n",
    "    Column(\"branch\", String(16), nullable=False),\n",
    "    Column(\"payment_type\", String(16), nullable=True),\n",
    "    Column(\"customer_transaction_code1\", String(16), nullable=True),\n",
    "    Column(\"customer_transaction_amount1\", Float, nullable=True),\n",
    "    Column(\"customer_transaction_postscript1\", String(16), nullable=True),\n",
    "    Column(\"final_transaction_code1\", String(16), nullable=True),\n",
    "    Column(\"final_transaction_amount1\", Float, nullable=True),\n",
    "    Column(\"final_transaction_postscript1\", String(16), nullable=True),\n",
    ")\n",
    "metadata_obj.create_all(engine)"
   ]
  },
  {
   "cell_type": "code",
   "execution_count": 7,
   "metadata": {},
   "outputs": [],
   "source": [
    "from llama_index.core import SQLDatabase\n",
    "from llama_index.llms.openai import OpenAI"
   ]
  },
  {
   "cell_type": "code",
   "execution_count": 8,
   "metadata": {},
   "outputs": [],
   "source": [
    "llm = OpenAI(temperature=0.1, model=\"gpt-4-turbo\",api_base = api_base,api_key = api_key)"
   ]
  },
  {
   "cell_type": "code",
   "execution_count": 9,
   "metadata": {},
   "outputs": [],
   "source": [
    "sql_database = SQLDatabase(engine, include_tables=[\"bop_test_cases\"])"
   ]
  },
  {
   "cell_type": "code",
   "execution_count": 10,
   "metadata": {},
   "outputs": [],
   "source": [
    "import pandas as pd\n",
    "from sqlalchemy import create_engine, MetaData, Table, Column, Integer, String\n",
    "\n",
    "excel_file = \"./bop.xlsx\"  \n",
    "df = pd.read_excel(excel_file)"
   ]
  },
  {
   "cell_type": "code",
   "execution_count": 11,
   "metadata": {},
   "outputs": [],
   "source": [
    "sql_database = SQLDatabase(engine, include_tables=[\"bop_test_cases\"])\n",
    "from sqlalchemy import insert\n",
    "\n",
    "# rows = [\n",
    "#     {\"city_name\": \"Toronto\", \"population\": 2930000, \"country\": \"Canada\"},\n",
    "#     {\"city_name\": \"Tokyo\", \"population\": 13960000, \"country\": \"Japan\"},\n",
    "#     {\n",
    "#         \"city_name\": \"Chicago\",\n",
    "#         \"population\": 2679000,\n",
    "#         \"country\": \"United States\",\n",
    "#     },\n",
    "#     {\"city_name\": \"Seoul\", \"population\": 9776000, \"country\": \"South Korea\"},\n",
    "# ]\n",
    "# for row in rows:\n",
    "#     stmt = insert(city_stats_table).values(**row)\n",
    "#     with engine.begin() as connection:\n",
    "#         cursor = connection.execute(stmt)\n",
    "with engine.begin() as connection:\n",
    "    for index, row in df.iterrows():\n",
    "        stmt = insert(bop_test_cases).values(\n",
    "            branch=row[\"Branch\"],\n",
    "            payment_type=row[\"付款类型\"],\n",
    "            customer_transaction_code1=row[\"客户提供的交易编码1\"],\n",
    "            customer_transaction_amount1=row[\"客户提供的交易金额1\"],\n",
    "            customer_transaction_postscript1=row[\"客户提供的交易附言1\"],\n",
    "            final_transaction_code1=row[\"最终的交易编码1\"],\n",
    "            final_transaction_amount1=row[\"最终的相应金额1\"],\n",
    "            final_transaction_postscript1=row[\"最终的交易附言1\"],\n",
    "        )\n",
    "        connection.execute(stmt)"
   ]
  },
  {
   "cell_type": "code",
   "execution_count": 12,
   "metadata": {},
   "outputs": [
    {
     "name": "stdout",
     "output_type": "stream",
     "text": [
      "[('SHH', '其他', '222011', 25.0, '海出', '222011-涉及我国出口的海洋货运服务', 25.0, '出口海运费'), ('XIA', '货到付款', '121010', 62.6, '一般贸易电子器件货款', '121010-一般贸易', 63.0, '一般贸易电子器件的货款'), ('BJG', '其他', '225030', 135.09, '再保险支出财产险', '225030', 135.0, '再保险支出财产险'), ('SHH', '其他', '228039', 163.5, '店铺门禁技术费', '228039-其他技术服务', 164.0, '店铺门禁技术费'), ('SHH', '货到付款', '121010', 366.97, '弹簧', '121010-一般贸易', 367.0, '一般贸易弹簧'), ('XIA', '货到付款', '121020', 696.76, '进料加工电子器件', '121020-进料加工贸易', 697.0, '进料加工电子器件的货款'), ('SHH', '其他', '228990', 746.73, '巧克力包装服务费', '228990-上述未提及的其他商业服务', 747.0, '巧克力包装服务费'), ('GZH', '其他', '222013', 810.0, '不涉及我国进出口货物的海运费支出', '222013-不涉及我国进出口的海洋货运服务', 810.0, '不涉及我国进出口货物的海运费支出'), ('SHH', '其他', '228050', 915.07, '干式拉丝润滑粉产品销售佣金', '228050-货物或服务交易佣金及相关服务', 915.0, '干式拉丝润滑粉产品销售佣金'), ('SHH', '其他', '222011', 1050.0, '出口海运费', '222011-涉及我国出口的海洋货运服务', 1050.0, '出口海运费'), ('GZH', '货到付款', '121010', 1170.0, '一般贸易(真空泵机械密封)', '121010-一般贸易', 1170.0, '一般贸易项下进口真空泵机械密封货款支出'), ('SHH', '其他', '321000', 1850.0, '外籍员工薪资福利', '321000-职工报酬（工资、薪金和福利）', 1850.0, '外籍员工薪资福利'), ('SHH', '其他', '228023', 2000.0, '招聘服务费', '228023-管理咨询和公共关系服务', 2000.0, '招聘服务费'), ('SHH', '货到付款', '121010', 2065.0, '色母料', '121010-一般贸易', 2065.0, '一般贸易色母料'), ('XIA', '货到付款', '121020', 2206.5, '进料加工电子器件货款', '121020-进料加工贸易', 2207.0, '进料加工电子器件的货款'), ('SHH', '预付货款', '121010', 2310.0, '液体', '121010-一般贸易', 2310.0, '一般贸易液体预付款'), ('SHH', '货到付款', '121010', 2402.27, '一般贸易货款+紧固件', '121010-一般贸易', 2402.0, '一般贸易紧固件'), ('XIA', '货到付款', '121020', 2856.6, '进料加工电子器件', '121020-进料加工贸易', 2857.0, '进料加工电子器件的货款'), ('SHH', '货到付款', '121010', 2900.0, '一般贸易货款配件', '121010-一般贸易', 2900.0, '一般贸易配件'), ('BJG', '其他', '223010', 3136.34, '偿还联属企业代垫不超过12个月外籍员工因公差旅费', '223010', 3136.0, '偿还联属企业代垫不超过12个月外籍员工因公差旅费'), ('SHH', '货到付款', '121010', 3220.83, '塑料支架', '121010-一般贸易', 3221.0, '一般贸易塑料支架'), ('GZH', '其他', '228021', 3531.0, '公司法律服务费', '228021-法律服务', 3531.0, '公司法律服务费支出'), ('SHH', '货到付款', '121010', 3700.01, '备件', '121010-一般贸易', 3700.0, '一般贸易备件'), ('SHH', '其他', '222011', 3795.0, '出口海运费', '222011-涉及我国出口的海洋货运服务', 3795.0, '出口海运费'), ('SHH', '其他', '228039', 3800.0, '配电箱温度测量费', '228039-其他技术服务', 3800.0, '配电箱温度测量费'), ('XIA', '货到付款', '121020', 3813.0, '进料加工电子器件货款', '121020-进料加工贸易', 3813.0, '进料加工电子器件的货款'), ('GZH', '其他', '222021', 3833.5, '涉及我国出口货物的空运费支出', '222021-涉及我国出口的空中货运服务', 3834.0, '涉及我国出口货物的空运费支出'), ('SHH', '货到付款', '121010', 4065.0, '工业配件', '121010-一般贸易', 4065.0, '一般贸易工业配件'), ('BJG', '其他', '227020', 4161.71, '计算机服务费', '227020', 4162.0, '计算机服务费'), ('SHH', '其他', '228039', 4493.9, '产品技术费', '228039-其他技术服务', 4494.0, '产品技术费'), ('SHH', '货到付款', '121010', 4753.11, '塑料粒子', '121010-一般贸易', 4753.0, '一般贸易塑料粒子'), ('BJG', '其他', '228022', 5429.43, '财务管理支持服务费 ', '228022', 5429.0, '财务管理支持服务费'), ('SHH', '其他', '229020', 5500.0, '线上学习资源使用费 无人员跨境', '229020-教育服务', 5500.0, '线上学习资源使用费无人员跨境'), ('GZH', '其他', '228023', 5639.09, '人力资源管理相关服务费', '228023-管理咨询和公共关系服务', 5639.0, '人力资源管理相关服务费支出'), ('SHH', '其他', '228039', 5834.53, '服装技术咨询费', '228039-其他技术服务', 5835.0, '服装技术咨询费'), ('SHH', '货到付款', '121010', 6434.06, '一般贸易配件', '121010-一般贸易', 6434.0, '一般贸易配件'), ('SHH', '货到付款', '121010', 6436.6, '一般贸易进口标签', '121010-一般贸易', 6437.0, '一般贸易标签'), ('SHH', '货到付款', '121010', 7301.25, '贸易便利试点\\n一般贸易进口服装', '121010-一般贸易', 7301.0, '一般贸易服装贸易便利试点'), ('CQG', '货到付款', '121010', 7776.0, '一般贸易插接件货款', '121010-一般贸易', 7776.0, '一般贸易支付购插接件货款'), ('BJG', '货到付款', '121010', 7787.94, '铜头货款一般贸易', '121010-一般贸易', 7788.0, '一般贸易铜头货款'), ('SHH', '货到付款', '121010', 8721.39, '色母料', '121010-一般贸易', 8721.0, '一般贸易色母料'), ('BJG', '其他', '321000', 9000.0, '外籍员工工资', '321000', 9000.0, '外籍员工工资'), ('BJG', '货到付款', '121010', 9074.79, '加热器及配件货款一般贸易', '121010-一般贸易', 9075.0, '一般贸易加热器及配件货款'), ('BJG', '其他', '228023', 10150.66, '公关服务费', '228023', 10151.0, '公关服务费'), ('GZH', '其他', '228023', 12000.0, '市场管理咨询服务费支出', '228023-管理咨询和公共关系服务', 12000.0, '市场管理咨询服务费支出'), ('SHH', '货到付款', '121010', 14364.0, '衣架', '121010-一般贸易', 14364.0, '一般贸易衣架'), ('GZH', '其他', '228023', 16221.72, '人力资源管理相关服务费', '228023-管理咨询和公共关系服务', 16222.0, '人力资源管理相关服务费支出'), ('SHH', '货到付款', '121010', 16762.76, '贸易便利试点-樱桃', '121010-一般贸易', 16763.0, '一般贸易樱桃贸易便利试点'), ('BJG', '其他', '227030', 16845.36, '非批量订购期刊', '227030', 16625.0, '非批量订购期刊'), ('SHH', '货到付款', '121010', 17022.78, '一般贸易货款+紧固件', '121010-一般贸易', 17023.0, '一般贸易紧固件'), ('TJN', '其他', '222019', 19570.0, '海运代理费', '222019-其他海运服务', 19570.0, '海运代理费'), ('SHH', '预付货款', '121010', 21294.9, '风扇', '121010-一般贸易', 21295.0, '一般贸易风扇预付款'), ('CQG', '货到付款', '121010', 21585.0, '一般贸易项下进口板壳式换热器货款支出', '121010-一般贸易', 21585.0, '一般贸易支付购板壳式换热器货款'), ('SHH', '其他', '222011', 21685.0, '海出', '222011-涉及我国出口的海洋货运服务', 21685.0, '出口海运费'), ('SHH', '货到付款', '121030', 21863.31, '玩具一般贸易', '121030-海关特殊监管区域及保税监管场所进出境物流货物', 21822.0, '海关特殊监管区域物流货物玩具'), ('GZH', '货到付款', '121010', 24792.64, '一般贸易进口建材货款', '121010-一般贸易', 24793.0, '一般贸易项下进口建材货款支出'), ('SHH', '货到付款', '121010', 28662.0, '一般贸易（模块）', '121010-一般贸易', 28662.0, '一般贸易模块'), ('XIA', '其他', '227020', 28813.5, '计算机软件服务及信息技术共享服务费', '227020-计算机服务', 28814.0, '计算机软件服务及信息技术共享服务费'), ('GZH', '货到付款', '121010', 30717.58, '一般贸易项下进口化学试剂货款支出', '121010-一般贸易', 30718.0, '一般贸易项下进口化学试剂货款支出'), ('SHH', '货到付款', '121010', 33744.0, '贸易便利试点\\n一般贸易进口服装', '121010-一般贸易', 33744.0, '一般贸易服装贸易便利试点'), ('GZH', '其他', '228023', 36605.15, '酒店管理咨询服务费支出', '228023-管理咨询和公共关系服务', 36605.0, '酒店管理咨询服务费支出'), ('SHH', '货到付款', '121010', 38860.8, '一般贸易+进口备件', '121010-一般贸易', 38861.0, '一般贸易备件'), ('XIA', '货到付款', '121010', 39283.2, '一般贸易电子器件货款', '121010-一般贸易', 3928.0, '一般贸易电子器件的货款'), ('GZH', '其他', '228023', 41815.28, '管理咨询服务费', '228023-管理咨询和公共关系服务', 41815.0, '管理咨询服务费支出'), ('GZH', '货到付款', '121010', 43025.0, '一般贸易（聚碳酸酯）', '121020-进料加工贸易', 162024.0, '进料加工进口聚碳酸酯货款支出'), ('SHH', '货到付款', '121030', 49133.31, '玩具一般贸易', '121030-海关特殊监管区域及保税监管场所进出境物流货物', 49065.0, '海关特殊监管区域物流货物玩具'), ('CQG', '货到付款', '121020', 53120.0, '进料加工项下支付购初级形状的聚碳酸酯等货款', '121020-进料加工贸易', 53120.0, '支付进料加工项下购初级形状的聚碳酸酯等货款'), ('SHH', '货到付款', '121010', 53360.05, '贸易便利试点\\n一般贸易进口衣服', '121010-一般贸易', 53360.0, '一般贸易衣服贸易便利试点'), ('GZH', '货到付款', '121010', 53550.0, '一般贸易（聚苯醚）', '121010-一般贸易', 53550.0, '一般贸易项下进口聚苯醚货款支出'), ('SHH', '其他', '228031', 64750.0, '建筑设计费', '228031-建筑、工程技术服务', 64750.0, '建筑设计费'), ('CQG', '货到付款', '121020', 67000.0, '进料加工项下购滑石粉货款', '121020-进料加工贸易', 67000.0, '支付进料加工项下购滑石粉货款'), ('XIA', '其他', '228039', 68411.84, '生产技术支持服务费与产品认证费', '228023-管理咨询和公共关系服务', 125205.0, '销售服务支持与质量管理支持服务费'), ('GZH', '货到付款', '121030', 70463.25, '保税港区进口线型低密度聚乙烯货款支出', '121030-海关特殊监管区域及保税监管场所进出境物流货物', 70463.0, '进出海关特殊监管区域线型低密度聚乙烯货款支出'), ('SHH', '货到付款', '121010', 77547.16, '玩具一般贸易', '121010-一般贸易', 77450.0, '一般贸易玩具'), ('SHH', '货到付款', '121010', 97081.22, '一般贸易货款端子', '121010-一般贸易', 97081.0, '一般贸易端子'), ('GZH', '预付货款', '121010', 99000.0, '一般贸易项下指纹扫描仪预付货款支出', '121010-一般贸易', 99000.0, '一般贸易项下进口指纹扫描仪预付货款支出'), ('SHH', '货到付款', '121020', 111054.02, '进料加工，离心压缩机', '121020-进料加工贸易', 111054.0, '进料加工离心压缩机'), ('SHH', '其他', '228039', 171000.0, '产品认证费用', '228039-其他技术服务', 171000.0, '产品认证费用'), ('CQG', '货到付款', '121010', 216100.0, '一般贸易丙烯腈丁二烯苯乙烯甲基苯乙烯共聚物货款', '121010-一般贸易', 246400.0, '一般贸易支付购丙烯腈丁二烯苯乙烯甲基苯乙烯共聚物货款'), ('SHH', '货到付款', '121010', 258324.5, '一般贸易添加剂', '121010-一般贸易', 258325.0, '一般贸易添加剂'), ('GZH', '货到付款', '121010', 258630.0, '一般贸易（聚碳酸酯）', '121010-一般贸易', 258630.0, '一般贸易项下进口聚碳酸酯货款支出'), ('SHH', '其他', '227020', 264150.0, '计算机软件特许使用', '227020-计算机服务', 264150.0, '计算机软件特许使用'), ('GZH', '货到付款', '121010', 300262.69, '一般贸易进口传感器及其配件货款', '121010-一般贸易', 300263.0, '一般贸易项下进口传感器及其配件货款支出'), ('BJG', '货到付款', '122010', 316602.0, '离岸转手买卖货款-头孢羟氨苄压实粉等', '122010-离岸转手买卖', 316602.0, '离岸转手买卖货款-头孢羟氨苄压实粉等'), ('SHH', '预付货款', '121010', 391058.31, '一般贸易预付款奶粉 区域便利试点', '121010-一般贸易', 391058.0, '一般贸易奶粉预付款区域便利试点'), ('GZH', '货到付款', '121010', 490196.62, '进口建材，一般贸易', '121010-一般贸易', 490197.0, '一般贸易项下进口建材货款支出'), ('GZH', '货到付款', '121010', 537282.42, '一般贸易项下进口轨道及围栏', '121010-一般贸易', 3000.0, '一般贸易项下进口轨道及围栏货款支出'), ('BJG', '货到付款', '121010', 562336.49, '加热器及配件货款一般贸易', '121010-一般贸易', 562336.0, '一般贸易加热器及配件货款'), ('BJG', '货到付款', '122010', 609801.26, '离岸转手买卖货款-阿莫西林三水酸压实粉等', '122010-离岸转手买卖', 609801.0, '离岸转手买卖货款-阿莫西林三水酸压实粉等'), ('GZH', '货到付款', '121010', 802831.0, '一般贸易项下进口催化剂及化学制品货款支出', '121010-一般贸易', 802831.0, '一般贸易项下进口催化剂及化学制品货款支出'), ('BJG', '货到付款', '121010', 811008.0, '注射用修饰透明质酸钠凝胶', '121010-一般贸易', 811008.0, '一般贸易注射用修饰透明质酸钠凝胶货款'), ('SHH', '其他', '322011', 1400000.0, '向境外个人股东支付2018年度利润SWBA000735', '322011-向境外母公司支付的股息、红利或利润', 1400000.0, '向境外个人股东支付2018年度利润SWBA000735'), ('SHH', '预付货款', '121010', 1800546.42, '贸易便利试点-牛肉', '121010-一般贸易', 1800546.0, '一般贸易牛肉预付款贸易便利试点'), ('BJG', '其他', '222024', 3400000.0, '空运客运机票款', '222024', 3400000.0, '空运客运机票款'), ('BJG', '货到付款', '121010', 11062394.84, '一般贸易注射液', '121010-一般贸易', 11062395.0, '一般贸易注射液货款'), ('BJG', '其他', '222021', 29300000.0, '涉及我国出口的空中货运服务费', '222021', 29300000.0, '涉及我国出口的空中货运服务费'), ('BJG', '其他', '222013', 90735372.47, '不涉及我国进出口的海洋货运服务费', '222013', 90735372.0, '不涉及我国进出口的海洋货运服务费'), ('SHH', '货到付款', '121010', 422104400.0, '一般贸易 润滑剂等货款', '121010-一般贸易', 422104400.0, '一般贸易润滑剂等')]\n"
     ]
    }
   ],
   "source": [
    "# view current table\n",
    "stmt = select(\n",
    "    bop_test_cases.c.branch,\n",
    "    bop_test_cases.c.payment_type,\n",
    "    bop_test_cases.c.customer_transaction_code1,\n",
    "    bop_test_cases.c.customer_transaction_amount1,\n",
    "    bop_test_cases.c.customer_transaction_postscript1,\n",
    "    bop_test_cases.c.final_transaction_code1,\n",
    "    bop_test_cases.c.final_transaction_amount1,\n",
    "    bop_test_cases.c.final_transaction_postscript1,\n",
    ").select_from(bop_test_cases)\n",
    "\n",
    "with engine.connect() as connection:\n",
    "    results = connection.execute(stmt).fetchall()\n",
    "    print(results)"
   ]
  },
  {
   "cell_type": "code",
   "execution_count": 13,
   "metadata": {
    "scrolled": true
   },
   "outputs": [
    {
     "name": "stdout",
     "output_type": "stream",
     "text": [
      "(25.0,)\n",
      "(62.6,)\n",
      "(135.09,)\n",
      "(163.5,)\n",
      "(366.97,)\n",
      "(696.76,)\n",
      "(746.73,)\n",
      "(810.0,)\n",
      "(915.07,)\n",
      "(1050.0,)\n",
      "(1170.0,)\n",
      "(1850.0,)\n",
      "(2000.0,)\n",
      "(2065.0,)\n",
      "(2206.5,)\n",
      "(2310.0,)\n",
      "(2402.27,)\n",
      "(2856.6,)\n",
      "(2900.0,)\n",
      "(3136.34,)\n",
      "(3220.83,)\n",
      "(3531.0,)\n",
      "(3700.01,)\n",
      "(3795.0,)\n",
      "(3800.0,)\n",
      "(3813.0,)\n",
      "(3833.5,)\n",
      "(4065.0,)\n",
      "(4161.71,)\n",
      "(4493.9,)\n",
      "(4753.11,)\n",
      "(5429.43,)\n",
      "(5500.0,)\n",
      "(5639.09,)\n",
      "(5834.53,)\n",
      "(6434.06,)\n",
      "(6436.6,)\n",
      "(7301.25,)\n",
      "(7776.0,)\n",
      "(7787.94,)\n",
      "(8721.39,)\n",
      "(9000.0,)\n",
      "(9074.79,)\n",
      "(10150.66,)\n",
      "(12000.0,)\n",
      "(14364.0,)\n",
      "(16221.72,)\n",
      "(16762.76,)\n",
      "(16845.36,)\n",
      "(17022.78,)\n",
      "(19570.0,)\n",
      "(21294.9,)\n",
      "(21585.0,)\n",
      "(21685.0,)\n",
      "(21863.31,)\n",
      "(24792.64,)\n",
      "(28662.0,)\n",
      "(28813.5,)\n",
      "(30717.58,)\n",
      "(33744.0,)\n",
      "(36605.15,)\n",
      "(38860.8,)\n",
      "(39283.2,)\n",
      "(41815.28,)\n",
      "(43025.0,)\n",
      "(49133.31,)\n",
      "(53120.0,)\n",
      "(53360.05,)\n",
      "(53550.0,)\n",
      "(64750.0,)\n",
      "(67000.0,)\n",
      "(68411.84,)\n",
      "(70463.25,)\n",
      "(77547.16,)\n",
      "(97081.22,)\n",
      "(99000.0,)\n",
      "(111054.02,)\n",
      "(171000.0,)\n",
      "(216100.0,)\n",
      "(258324.5,)\n",
      "(258630.0,)\n",
      "(264150.0,)\n",
      "(300262.69,)\n",
      "(316602.0,)\n",
      "(391058.31,)\n",
      "(490196.62,)\n",
      "(537282.42,)\n",
      "(562336.49,)\n",
      "(609801.26,)\n",
      "(802831.0,)\n",
      "(811008.0,)\n",
      "(1400000.0,)\n",
      "(1800546.42,)\n",
      "(3400000.0,)\n",
      "(11062394.84,)\n",
      "(29300000.0,)\n",
      "(90735372.47,)\n",
      "(422104400.0,)\n"
     ]
    }
   ],
   "source": [
    "from sqlalchemy import text\n",
    "\n",
    "with engine.connect() as con:\n",
    "    rows = con.execute(text(\"SELECT customer_transaction_amount1 from bop_test_cases\"))\n",
    "    for row in rows:\n",
    "        print(row)"
   ]
  },
  {
   "cell_type": "code",
   "execution_count": 14,
   "metadata": {},
   "outputs": [
    {
     "name": "stdout",
     "output_type": "stream",
     "text": [
      "1111111111\n",
      "[ChatMessage(role=<MessageRole.USER: 'user'>, content=\"Given an input question, first create a syntactically correct sqlite query , then look at the results of the query and return the answer. You can order the results by a relevant column to return the most interesting examples in the database.\\n\\nNever query for all the columns from a specific table, only ask for a few relevant columns given the question.\\n\\nPay attention to use only the column names that you can see in the schema description. Be careful to not query for columns that do not exist. Pay attention to which column is in which table. Also, qualify column names with the table name when needed. You are required to use the following format, each taking one line:\\n\\nQuestion: Question here\\nSQLQuery: SQL Query \\nSQLResult: Result of the SQLQuery\\nAnswer: Final answer here\\n\\nOnly use tables listed below.\\nTable 'bop_test_cases' has columns: id (INTEGER), branch (VARCHAR(16)), payment_type (VARCHAR(16)), customer_transaction_code1 (VARCHAR(16)), customer_transaction_amount1 (FLOAT), customer_transaction_postscript1 (VARCHAR(16)), final_transaction_code1 (VARCHAR(16)), final_transaction_amount1 (FLOAT), final_transaction_postscript1 (VARCHAR(16)), and foreign keys: .\\n\\nQuestion: 返回'客户提供的交易金额1'第2小的branch以及'客户提供的交易金额1'\\nSQLQuery: \", additional_kwargs={})]\n",
      "sql_query_str:SELECT branch, customer_transaction_amount1 FROM bop_test_cases ORDER BY customer_transaction_amount1 ASC LIMIT 1 OFFSET 1\n",
      "No SQL query found.\n",
      "1111111111\n",
      "[ChatMessage(role=<MessageRole.USER: 'user'>, content=\"Given an input question, synthesize a response from the query results.\\nQuery: 返回'客户提供的交易金额1'第2小的branch以及'客户提供的交易金额1'\\nSQL: SELECT branch, customer_transaction_amount1 FROM bop_test_cases ORDER BY customer_transaction_amount1 ASC LIMIT 1 OFFSET 1\\nSQL Response: [('XIA', 62.6)]\\nResponse: \", additional_kwargs={})]\n"
     ]
    }
   ],
   "source": [
    "from llama_index.core.query_engine import NLSQLTableQueryEngine\n",
    "\n",
    "query_engine = NLSQLTableQueryEngine(\n",
    "    sql_database=sql_database, tables=[\"bop_test_cases\"], llm=llm\n",
    ")\n",
    "query_str = \"返回'客户提供的交易金额1'第2小的branch以及'客户提供的交易金额1'\"\n",
    "# query_str = \"Return 'customer provided by the transaction note 1' with branch=XIA and 'customer provided by the transaction amount 1'=62.6 .\"\n",
    "# query_str = \"Returns the difference between the sum of all final_transaction_amount1 for data with payment_type as '预付货款' and sum of final_transaction_amount1 for those with branch 'TJN'.\"\n",
    "response = query_engine.query(query_str)\n"
   ]
  },
  {
   "cell_type": "code",
   "execution_count": 15,
   "metadata": {},
   "outputs": [
    {
     "data": {
      "text/markdown": [
       "The second smallest 'customer_transaction_amount1' is 62.6, and it is associated with the branch 'XIA'."
      ],
      "text/plain": [
       "<IPython.core.display.Markdown object>"
      ]
     },
     "metadata": {},
     "output_type": "display_data"
    }
   ],
   "source": [
    "display(Markdown(f\"{response}\"))"
   ]
  },
  {
   "cell_type": "code",
   "execution_count": 18,
   "metadata": {},
   "outputs": [
    {
     "name": "stdout",
     "output_type": "stream",
     "text": [
      "1111111111\n",
      "[ChatMessage(role=<MessageRole.USER: 'user'>, content=\"Given an input question, first create a syntactically correct sqlite query , then look at the results of the query and return the answer. You can order the results by a relevant column to return the most interesting examples in the database.\\n\\nNever query for all the columns from a specific table, only ask for a few relevant columns given the question.\\n\\nPay attention to use only the column names that you can see in the schema description. Be careful to not query for columns that do not exist. Pay attention to which column is in which table. Also, qualify column names with the table name when needed. You are required to use the following format, each taking one line:\\n\\nQuestion: Question here\\nSQLQuery: SQL Query \\nSQLResult: Result of the SQLQuery\\nAnswer: Final answer here\\n\\nOnly use tables listed below.\\nTable 'bop_test_cases' has columns: id (INTEGER), branch (VARCHAR(16)), payment_type (VARCHAR(16)), customer_transaction_code1 (VARCHAR(16)), customer_transaction_amount1 (FLOAT), customer_transaction_postscript1 (VARCHAR(16)), final_transaction_code1 (VARCHAR(16)), final_transaction_amount1 (FLOAT), final_transaction_postscript1 (VARCHAR(16)), and foreign keys: .\\n\\nQuestion: What is  the top 78 branches (along with their amounts) with the highest customer_transaction_amount1.\\nSQLQuery: \", additional_kwargs={})]\n",
      "sql_query_str:SELECT branch, customer_transaction_amount1 FROM bop_test_cases ORDER BY customer_transaction_amount1 DESC LIMIT 78\n",
      "No SQL query found.\n"
     ]
    },
    {
     "data": {
      "text/markdown": [
       "**Node ID:** 85dc8640-5af0-45ba-9bc2-ddabd920ddf4<br>**Similarity:** None<br>**Text:** [('SHH', 422104400.0), ('BJG', 90735372.47), ('BJG', 29300000.0), ('BJG', 11062394.84), ('BJG', 3400000.0), ('SHH', 1800546.42), ('SHH', 1400000.0), ('BJG', 811008.0), ('GZH', 802831.0), ('BJG', 609801.26), ('BJG', 562336.49), ('GZH', 537282.42), ('GZH', 490196.62), ('SHH', 391058.31), ('BJG', 316602.0), ('GZH', 300262.69), ('SHH', 264150.0), ('GZH', 258630.0), ('SHH', 258324.5), ('CQG', 216100.0), ('SHH', 171000.0), ('SHH', 111054.02), ('GZH', 99000.0), ('SHH', 97081.22), ('SHH', 77547.16), ('GZH', 70463.25), ('XIA', 68411.84), ('CQG', 67000.0), ('SHH', 64750.0), ('GZH', 53550.0), ('SHH', 53360.05), ('CQG', 53120.0), ('SHH', 49133.31), ('GZH', 43025.0), ('GZH', 41815.28), ('XIA', 39283.2), ('SHH', 38860.8), ('GZH', 36605.15), ('SHH', 33744.0), ('GZH', 30717.58), ('XIA', 28813.5), ('SHH', 28662.0), ('GZH', 24792.64), ('SHH', 21863.31), ('SHH', 21685.0), ('CQG', 21585.0), ('SHH', 21294.9), ('TJN', 19570.0), ('SHH', 17022.78), ('BJG', 16845.36), ('SHH', 16762.76), ('GZH', 16221.72), ('SHH', 14364.0), ('GZH', 12000.0), ('BJG', 10150.66), ('BJG', 9074.79), ('BJG', 9000.0), ('SHH', 8721.39), ('BJG', 7787.94), ('CQG', 7776.0), ('SHH', 7301.25), ('SHH', 6436.6), ('SHH', 6434.06), ('SHH', 5834.53), ('GZH', 5639.09), ('SHH', 5500.0), ('BJG', 5429.43), ('SHH', 4753.11), ('SHH', 4493.9), ('BJG', 4161.71), ('SHH', 4065.0), ('GZH', 3833.5), ('XIA', 3813.0), ('SHH', 3800.0), ('SHH', 3795.0), ('SHH', 3700.01), ('GZH', 3531.0), ('SHH', 3220.83)]<br>"
      ],
      "text/plain": [
       "<IPython.core.display.Markdown object>"
      ]
     },
     "metadata": {},
     "output_type": "display_data"
    },
    {
     "name": "stdout",
     "output_type": "stream",
     "text": [
      "1111111111\n",
      "[ChatMessage(role=<MessageRole.USER: 'user'>, content=\"Given an input question, first create a syntactically correct sqlite query , then look at the results of the query and return the answer. You can order the results by a relevant column to return the most interesting examples in the database.\\n\\nNever query for all the columns from a specific table, only ask for a few relevant columns given the question.\\n\\nPay attention to use only the column names that you can see in the schema description. Be careful to not query for columns that do not exist. Pay attention to which column is in which table. Also, qualify column names with the table name when needed. You are required to use the following format, each taking one line:\\n\\nQuestion: Question here\\nSQLQuery: SQL Query \\nSQLResult: Result of the SQLQuery\\nAnswer: Final answer here\\n\\nOnly use tables listed below.\\nTable 'bop_test_cases' has columns: id (INTEGER), branch (VARCHAR(16)), payment_type (VARCHAR(16)), customer_transaction_code1 (VARCHAR(16)), customer_transaction_amount1 (FLOAT), customer_transaction_postscript1 (VARCHAR(16)), final_transaction_code1 (VARCHAR(16)), final_transaction_amount1 (FLOAT), final_transaction_postscript1 (VARCHAR(16)), and foreign keys: .\\n\\nQuestion: What is  the top 97 branches (along with their amounts) with the highest customer_transaction_amount1.\\nSQLQuery: \", additional_kwargs={})]\n",
      "sql_query_str:SELECT branch, customer_transaction_amount1 FROM bop_test_cases ORDER BY customer_transaction_amount1 DESC LIMIT 97\n",
      "No SQL query found.\n"
     ]
    },
    {
     "data": {
      "text/markdown": [
       "**Node ID:** 84b0a845-cd2c-432c-9dae-aead58e37a5d<br>**Similarity:** None<br>**Text:** [('SHH', 422104400.0), ('BJG', 90735372.47), ('BJG', 29300000.0), ('BJG', 11062394.84), ('BJG', 3400000.0), ('SHH', 1800546.42), ('SHH', 1400000.0), ('BJG', 811008.0), ('GZH', 802831.0), ('BJG', 609801.26), ('BJG', 562336.49), ('GZH', 537282.42), ('GZH', 490196.62), ('SHH', 391058.31), ('BJG', 316602.0), ('GZH', 300262.69), ('SHH', 264150.0), ('GZH', 258630.0), ('SHH', 258324.5), ('CQG', 216100.0), ('SHH', 171000.0), ('SHH', 111054.02), ('GZH', 99000.0), ('SHH', 97081.22), ('SHH', 77547.16), ('GZH', 70463.25), ('XIA', 68411.84), ('CQG', 67000.0), ('SHH', 64750.0), ('GZH', 53550.0), ('SHH', 53360.05), ('CQG', 53120.0), ('SHH', 49133.31), ('GZH', 43025.0), ('GZH', 41815.28), ('XIA', 39283.2), ('SHH', 38860.8), ('GZH', 36605.15), ('SHH', 33744.0), ('GZH', 30717.58), ('XIA', 28813.5), ('SHH', 28662.0), ('GZH', 24792.64), ('SHH', 21863.31), ('SHH', 21685.0), ('CQG', 21585.0), ('SHH', 21294.9), ('TJN', 19570.0), ('SHH', 17022.78), ('BJG', 16845.36), ('SHH', 16762.76), ('GZH', 16221.72), ('SHH', 14364.0), ('GZH', 12000.0), ('BJG', 10150.66), ('BJG', 9074.79), ('BJG', 9000.0), ('SHH', 8721.39), ('BJG', 7787.94), ('CQG', 7776.0), ('SHH', 7301.25), ('SHH', 6436.6), ('SHH', 6434.06), ('SHH', 5834.53), ('GZH', 5639.09), ('SHH', 5500.0), ('BJG', 5429.43), ('SHH', 4753.11), ('SHH', 4493.9), ('BJG', 4161.71), ('SHH', 4065.0), ('GZH', 3833.5), ('XIA', 3813.0), ('SHH', 3800.0), ('SHH', 3795.0), ('SHH', 3700.01), ('GZH', 3531.0), ('SHH', 3220.83), ('BJG', 3136.34), ('SHH', 2900.0), ('XIA', 2856.6), ('SHH', 2402.27), ('SHH', 2310.0), ('XIA', 2206.5), ('SHH', 2065.0), ('SHH', 2000.0), ('SHH', 1850.0), ('GZH', 1170.0), ('SHH', 1050.0), ('SHH', 915.07), ('GZH', 810.0), ('SHH', 746.73), ('XIA', 696.76), ('SHH', 366.97), ('SHH', 163.5), ('BJG', 135.09), ('XIA', 62.6)]<br>"
      ],
      "text/plain": [
       "<IPython.core.display.Markdown object>"
      ]
     },
     "metadata": {},
     "output_type": "display_data"
    },
    {
     "name": "stdout",
     "output_type": "stream",
     "text": [
      "1111111111\n",
      "[ChatMessage(role=<MessageRole.USER: 'user'>, content=\"Given an input question, first create a syntactically correct sqlite query , then look at the results of the query and return the answer. You can order the results by a relevant column to return the most interesting examples in the database.\\n\\nNever query for all the columns from a specific table, only ask for a few relevant columns given the question.\\n\\nPay attention to use only the column names that you can see in the schema description. Be careful to not query for columns that do not exist. Pay attention to which column is in which table. Also, qualify column names with the table name when needed. You are required to use the following format, each taking one line:\\n\\nQuestion: Question here\\nSQLQuery: SQL Query \\nSQLResult: Result of the SQLQuery\\nAnswer: Final answer here\\n\\nOnly use tables listed below.\\nTable 'bop_test_cases' has columns: id (INTEGER), branch (VARCHAR(16)), payment_type (VARCHAR(16)), customer_transaction_code1 (VARCHAR(16)), customer_transaction_amount1 (FLOAT), customer_transaction_postscript1 (VARCHAR(16)), final_transaction_code1 (VARCHAR(16)), final_transaction_amount1 (FLOAT), final_transaction_postscript1 (VARCHAR(16)), and foreign keys: .\\n\\nQuestion: What is the top 95 branches (along with their amounts) with the smallest customer_transaction_amount1.\\nSQLQuery: \", additional_kwargs={})]\n",
      "sql_query_str:SELECT branch, customer_transaction_amount1 FROM bop_test_cases ORDER BY customer_transaction_amount1 ASC LIMIT 95\n",
      "No SQL query found.\n"
     ]
    },
    {
     "data": {
      "text/markdown": [
       "**Node ID:** 75c24f53-722f-4ecc-8ba0-b188d5f4230a<br>**Similarity:** None<br>**Text:** [('SHH', 25.0), ('XIA', 62.6), ('BJG', 135.09), ('SHH', 163.5), ('SHH', 366.97), ('XIA', 696.76), ('SHH', 746.73), ('GZH', 810.0), ('SHH', 915.07), ('SHH', 1050.0), ('GZH', 1170.0), ('SHH', 1850.0), ('SHH', 2000.0), ('SHH', 2065.0), ('XIA', 2206.5), ('SHH', 2310.0), ('SHH', 2402.27), ('XIA', 2856.6), ('SHH', 2900.0), ('BJG', 3136.34), ('SHH', 3220.83), ('GZH', 3531.0), ('SHH', 3700.01), ('SHH', 3795.0), ('SHH', 3800.0), ('XIA', 3813.0), ('GZH', 3833.5), ('SHH', 4065.0), ('BJG', 4161.71), ('SHH', 4493.9), ('SHH', 4753.11), ('BJG', 5429.43), ('SHH', 5500.0), ('GZH', 5639.09), ('SHH', 5834.53), ('SHH', 6434.06), ('SHH', 6436.6), ('SHH', 7301.25), ('CQG', 7776.0), ('BJG', 7787.94), ('SHH', 8721.39), ('BJG', 9000.0), ('BJG', 9074.79), ('BJG', 10150.66), ('GZH', 12000.0), ('SHH', 14364.0), ('GZH', 16221.72), ('SHH', 16762.76), ('BJG', 16845.36), ('SHH', 17022.78), ('TJN', 19570.0), ('SHH', 21294.9), ('CQG', 21585.0), ('SHH', 21685.0), ('SHH', 21863.31), ('GZH', 24792.64), ('SHH', 28662.0), ('XIA', 28813.5), ('GZH', 30717.58), ('SHH', 33744.0), ('GZH', 36605.15), ('SHH', 38860.8), ('XIA', 39283.2), ('GZH', 41815.28), ('GZH', 43025.0), ('SHH', 49133.31), ('CQG', 53120.0), ('SHH', 53360.05), ('GZH', 53550.0), ('SHH', 64750.0), ('CQG', 67000.0), ('XIA', 68411.84), ('GZH', 70463.25), ('SHH', 77547.16), ('SHH', 97081.22), ('GZH', 99000.0), ('SHH', 111054.02), ('SHH', 171000.0), ('CQG', 216100.0), ('SHH', 258324.5), ('GZH', 258630.0), ('SHH', 264150.0), ('GZH', 300262.69), ('BJG', 316602.0), ('SHH', 391058.31), ('GZH', 490196.62), ('GZH', 537282.42), ('BJG', 562336.49), ('BJG', 609801.26), ('GZH', 802831.0), ('BJG', 811008.0), ('SHH', 1400000.0), ('SHH', 1800546.42), ('BJG', 3400000.0), ('BJG', 11062394.84)]<br>"
      ],
      "text/plain": [
       "<IPython.core.display.Markdown object>"
      ]
     },
     "metadata": {},
     "output_type": "display_data"
    },
    {
     "name": "stdout",
     "output_type": "stream",
     "text": [
      "1111111111\n",
      "[ChatMessage(role=<MessageRole.USER: 'user'>, content=\"Given an input question, first create a syntactically correct sqlite query , then look at the results of the query and return the answer. You can order the results by a relevant column to return the most interesting examples in the database.\\n\\nNever query for all the columns from a specific table, only ask for a few relevant columns given the question.\\n\\nPay attention to use only the column names that you can see in the schema description. Be careful to not query for columns that do not exist. Pay attention to which column is in which table. Also, qualify column names with the table name when needed. You are required to use the following format, each taking one line:\\n\\nQuestion: Question here\\nSQLQuery: SQL Query \\nSQLResult: Result of the SQLQuery\\nAnswer: Final answer here\\n\\nOnly use tables listed below.\\nTable 'bop_test_cases' has columns: id (INTEGER), branch (VARCHAR(16)), payment_type (VARCHAR(16)), customer_transaction_code1 (VARCHAR(16)), customer_transaction_amount1 (FLOAT), customer_transaction_postscript1 (VARCHAR(16)), final_transaction_code1 (VARCHAR(16)), final_transaction_amount1 (FLOAT), final_transaction_postscript1 (VARCHAR(16)), and foreign keys: .\\n\\nQuestion: What is  the top 50 branches (along with their amounts) with the highest customer_transaction_amount1.\\nSQLQuery: \", additional_kwargs={})]\n",
      "sql_query_str:SELECT branch, customer_transaction_amount1 FROM bop_test_cases ORDER BY customer_transaction_amount1 DESC LIMIT 50\n",
      "No SQL query found.\n"
     ]
    },
    {
     "data": {
      "text/markdown": [
       "**Node ID:** 6cd89ae1-8c41-4587-b34c-c1107b1055c5<br>**Similarity:** None<br>**Text:** [('SHH', 422104400.0), ('BJG', 90735372.47), ('BJG', 29300000.0), ('BJG', 11062394.84), ('BJG', 3400000.0), ('SHH', 1800546.42), ('SHH', 1400000.0), ('BJG', 811008.0), ('GZH', 802831.0), ('BJG', 609801.26), ('BJG', 562336.49), ('GZH', 537282.42), ('GZH', 490196.62), ('SHH', 391058.31), ('BJG', 316602.0), ('GZH', 300262.69), ('SHH', 264150.0), ('GZH', 258630.0), ('SHH', 258324.5), ('CQG', 216100.0), ('SHH', 171000.0), ('SHH', 111054.02), ('GZH', 99000.0), ('SHH', 97081.22), ('SHH', 77547.16), ('GZH', 70463.25), ('XIA', 68411.84), ('CQG', 67000.0), ('SHH', 64750.0), ('GZH', 53550.0), ('SHH', 53360.05), ('CQG', 53120.0), ('SHH', 49133.31), ('GZH', 43025.0), ('GZH', 41815.28), ('XIA', 39283.2), ('SHH', 38860.8), ('GZH', 36605.15), ('SHH', 33744.0), ('GZH', 30717.58), ('XIA', 28813.5), ('SHH', 28662.0), ('GZH', 24792.64), ('SHH', 21863.31), ('SHH', 21685.0), ('CQG', 21585.0), ('SHH', 21294.9), ('TJN', 19570.0), ('SHH', 17022.78), ('BJG', 16845.36)]<br>"
      ],
      "text/plain": [
       "<IPython.core.display.Markdown object>"
      ]
     },
     "metadata": {},
     "output_type": "display_data"
    },
    {
     "name": "stdout",
     "output_type": "stream",
     "text": [
      "1111111111\n",
      "[ChatMessage(role=<MessageRole.USER: 'user'>, content=\"Given an input question, first create a syntactically correct sqlite query , then look at the results of the query and return the answer. You can order the results by a relevant column to return the most interesting examples in the database.\\n\\nNever query for all the columns from a specific table, only ask for a few relevant columns given the question.\\n\\nPay attention to use only the column names that you can see in the schema description. Be careful to not query for columns that do not exist. Pay attention to which column is in which table. Also, qualify column names with the table name when needed. You are required to use the following format, each taking one line:\\n\\nQuestion: Question here\\nSQLQuery: SQL Query \\nSQLResult: Result of the SQLQuery\\nAnswer: Final answer here\\n\\nOnly use tables listed below.\\nTable 'bop_test_cases' has columns: id (INTEGER), branch (VARCHAR(16)), payment_type (VARCHAR(16)), customer_transaction_code1 (VARCHAR(16)), customer_transaction_amount1 (FLOAT), customer_transaction_postscript1 (VARCHAR(16)), final_transaction_code1 (VARCHAR(16)), final_transaction_amount1 (FLOAT), final_transaction_postscript1 (VARCHAR(16)), and foreign keys: .\\n\\nQuestion: What is the top 30 branches (along with their amounts) with the smallest customer_transaction_amount1.\\nSQLQuery: \", additional_kwargs={})]\n",
      "sql_query_str:SELECT branch, customer_transaction_amount1 FROM bop_test_cases ORDER BY customer_transaction_amount1 ASC LIMIT 30\n",
      "No SQL query found.\n"
     ]
    },
    {
     "data": {
      "text/markdown": [
       "**Node ID:** b4a41f1a-6e55-437e-a7b3-ddcdf81cd8b1<br>**Similarity:** None<br>**Text:** [('SHH', 25.0), ('XIA', 62.6), ('BJG', 135.09), ('SHH', 163.5), ('SHH', 366.97), ('XIA', 696.76), ('SHH', 746.73), ('GZH', 810.0), ('SHH', 915.07), ('SHH', 1050.0), ('GZH', 1170.0), ('SHH', 1850.0), ('SHH', 2000.0), ('SHH', 2065.0), ('XIA', 2206.5), ('SHH', 2310.0), ('SHH', 2402.27), ('XIA', 2856.6), ('SHH', 2900.0), ('BJG', 3136.34), ('SHH', 3220.83), ('GZH', 3531.0), ('SHH', 3700.01), ('SHH', 3795.0), ('SHH', 3800.0), ('XIA', 3813.0), ('GZH', 3833.5), ('SHH', 4065.0), ('BJG', 4161.71), ('SHH', 4493.9)]<br>"
      ],
      "text/plain": [
       "<IPython.core.display.Markdown object>"
      ]
     },
     "metadata": {},
     "output_type": "display_data"
    },
    {
     "name": "stdout",
     "output_type": "stream",
     "text": [
      "1111111111\n",
      "[ChatMessage(role=<MessageRole.USER: 'user'>, content=\"Given an input question, first create a syntactically correct sqlite query , then look at the results of the query and return the answer. You can order the results by a relevant column to return the most interesting examples in the database.\\n\\nNever query for all the columns from a specific table, only ask for a few relevant columns given the question.\\n\\nPay attention to use only the column names that you can see in the schema description. Be careful to not query for columns that do not exist. Pay attention to which column is in which table. Also, qualify column names with the table name when needed. You are required to use the following format, each taking one line:\\n\\nQuestion: Question here\\nSQLQuery: SQL Query \\nSQLResult: Result of the SQLQuery\\nAnswer: Final answer here\\n\\nOnly use tables listed below.\\nTable 'bop_test_cases' has columns: id (INTEGER), branch (VARCHAR(16)), payment_type (VARCHAR(16)), customer_transaction_code1 (VARCHAR(16)), customer_transaction_amount1 (FLOAT), customer_transaction_postscript1 (VARCHAR(16)), final_transaction_code1 (VARCHAR(16)), final_transaction_amount1 (FLOAT), final_transaction_postscript1 (VARCHAR(16)), and foreign keys: .\\n\\nQuestion: What is  the top 43 branches (along with their amounts) with the highest customer_transaction_amount1.\\nSQLQuery: \", additional_kwargs={})]\n",
      "sql_query_str:SELECT branch, customer_transaction_amount1 FROM bop_test_cases ORDER BY customer_transaction_amount1 DESC LIMIT 43\n",
      "No SQL query found.\n"
     ]
    },
    {
     "data": {
      "text/markdown": [
       "**Node ID:** a3385713-7ab9-4c19-a18a-5e6fb39b1cc6<br>**Similarity:** None<br>**Text:** [('SHH', 422104400.0), ('BJG', 90735372.47), ('BJG', 29300000.0), ('BJG', 11062394.84), ('BJG', 3400000.0), ('SHH', 1800546.42), ('SHH', 1400000.0), ('BJG', 811008.0), ('GZH', 802831.0), ('BJG', 609801.26), ('BJG', 562336.49), ('GZH', 537282.42), ('GZH', 490196.62), ('SHH', 391058.31), ('BJG', 316602.0), ('GZH', 300262.69), ('SHH', 264150.0), ('GZH', 258630.0), ('SHH', 258324.5), ('CQG', 216100.0), ('SHH', 171000.0), ('SHH', 111054.02), ('GZH', 99000.0), ('SHH', 97081.22), ('SHH', 77547.16), ('GZH', 70463.25), ('XIA', 68411.84), ('CQG', 67000.0), ('SHH', 64750.0), ('GZH', 53550.0), ('SHH', 53360.05), ('CQG', 53120.0), ('SHH', 49133.31), ('GZH', 43025.0), ('GZH', 41815.28), ('XIA', 39283.2), ('SHH', 38860.8), ('GZH', 36605.15), ('SHH', 33744.0), ('GZH', 30717.58), ('XIA', 28813.5), ('SHH', 28662.0), ('GZH', 24792.64)]<br>"
      ],
      "text/plain": [
       "<IPython.core.display.Markdown object>"
      ]
     },
     "metadata": {},
     "output_type": "display_data"
    },
    {
     "name": "stdout",
     "output_type": "stream",
     "text": [
      "1111111111\n",
      "[ChatMessage(role=<MessageRole.USER: 'user'>, content=\"Given an input question, first create a syntactically correct sqlite query , then look at the results of the query and return the answer. You can order the results by a relevant column to return the most interesting examples in the database.\\n\\nNever query for all the columns from a specific table, only ask for a few relevant columns given the question.\\n\\nPay attention to use only the column names that you can see in the schema description. Be careful to not query for columns that do not exist. Pay attention to which column is in which table. Also, qualify column names with the table name when needed. You are required to use the following format, each taking one line:\\n\\nQuestion: Question here\\nSQLQuery: SQL Query \\nSQLResult: Result of the SQLQuery\\nAnswer: Final answer here\\n\\nOnly use tables listed below.\\nTable 'bop_test_cases' has columns: id (INTEGER), branch (VARCHAR(16)), payment_type (VARCHAR(16)), customer_transaction_code1 (VARCHAR(16)), customer_transaction_amount1 (FLOAT), customer_transaction_postscript1 (VARCHAR(16)), final_transaction_code1 (VARCHAR(16)), final_transaction_amount1 (FLOAT), final_transaction_postscript1 (VARCHAR(16)), and foreign keys: .\\n\\nQuestion: What is the top 48 branches (along with their amounts) with the smallest customer_transaction_amount1.\\nSQLQuery: \", additional_kwargs={})]\n",
      "sql_query_str:SELECT branch, customer_transaction_amount1 FROM bop_test_cases ORDER BY customer_transaction_amount1 ASC LIMIT 48\n",
      "No SQL query found.\n"
     ]
    },
    {
     "data": {
      "text/markdown": [
       "**Node ID:** 1b8659b8-a1eb-45c5-a262-a5055ef0f4a6<br>**Similarity:** None<br>**Text:** [('SHH', 25.0), ('XIA', 62.6), ('BJG', 135.09), ('SHH', 163.5), ('SHH', 366.97), ('XIA', 696.76), ('SHH', 746.73), ('GZH', 810.0), ('SHH', 915.07), ('SHH', 1050.0), ('GZH', 1170.0), ('SHH', 1850.0), ('SHH', 2000.0), ('SHH', 2065.0), ('XIA', 2206.5), ('SHH', 2310.0), ('SHH', 2402.27), ('XIA', 2856.6), ('SHH', 2900.0), ('BJG', 3136.34), ('SHH', 3220.83), ('GZH', 3531.0), ('SHH', 3700.01), ('SHH', 3795.0), ('SHH', 3800.0), ('XIA', 3813.0), ('GZH', 3833.5), ('SHH', 4065.0), ('BJG', 4161.71), ('SHH', 4493.9), ('SHH', 4753.11), ('BJG', 5429.43), ('SHH', 5500.0), ('GZH', 5639.09), ('SHH', 5834.53), ('SHH', 6434.06), ('SHH', 6436.6), ('SHH', 7301.25), ('CQG', 7776.0), ('BJG', 7787.94), ('SHH', 8721.39), ('BJG', 9000.0), ('BJG', 9074.79), ('BJG', 10150.66), ('GZH', 12000.0), ('SHH', 14364.0), ('GZH', 16221.72), ('SHH', 16762.76)]<br>"
      ],
      "text/plain": [
       "<IPython.core.display.Markdown object>"
      ]
     },
     "metadata": {},
     "output_type": "display_data"
    },
    {
     "name": "stdout",
     "output_type": "stream",
     "text": [
      "1111111111\n",
      "[ChatMessage(role=<MessageRole.USER: 'user'>, content=\"Given an input question, first create a syntactically correct sqlite query , then look at the results of the query and return the answer. You can order the results by a relevant column to return the most interesting examples in the database.\\n\\nNever query for all the columns from a specific table, only ask for a few relevant columns given the question.\\n\\nPay attention to use only the column names that you can see in the schema description. Be careful to not query for columns that do not exist. Pay attention to which column is in which table. Also, qualify column names with the table name when needed. You are required to use the following format, each taking one line:\\n\\nQuestion: Question here\\nSQLQuery: SQL Query \\nSQLResult: Result of the SQLQuery\\nAnswer: Final answer here\\n\\nOnly use tables listed below.\\nTable 'bop_test_cases' has columns: id (INTEGER), branch (VARCHAR(16)), payment_type (VARCHAR(16)), customer_transaction_code1 (VARCHAR(16)), customer_transaction_amount1 (FLOAT), customer_transaction_postscript1 (VARCHAR(16)), final_transaction_code1 (VARCHAR(16)), final_transaction_amount1 (FLOAT), final_transaction_postscript1 (VARCHAR(16)), and foreign keys: .\\n\\nQuestion: What is the top 73 branches (along with their amounts) with the smallest customer_transaction_amount1.\\nSQLQuery: \", additional_kwargs={})]\n",
      "sql_query_str:SELECT branch, customer_transaction_amount1 FROM bop_test_cases ORDER BY customer_transaction_amount1 ASC LIMIT 73\n",
      "No SQL query found.\n"
     ]
    },
    {
     "data": {
      "text/markdown": [
       "**Node ID:** 20f94528-3b79-40e1-9474-b011718bb55b<br>**Similarity:** None<br>**Text:** [('SHH', 25.0), ('XIA', 62.6), ('BJG', 135.09), ('SHH', 163.5), ('SHH', 366.97), ('XIA', 696.76), ('SHH', 746.73), ('GZH', 810.0), ('SHH', 915.07), ('SHH', 1050.0), ('GZH', 1170.0), ('SHH', 1850.0), ('SHH', 2000.0), ('SHH', 2065.0), ('XIA', 2206.5), ('SHH', 2310.0), ('SHH', 2402.27), ('XIA', 2856.6), ('SHH', 2900.0), ('BJG', 3136.34), ('SHH', 3220.83), ('GZH', 3531.0), ('SHH', 3700.01), ('SHH', 3795.0), ('SHH', 3800.0), ('XIA', 3813.0), ('GZH', 3833.5), ('SHH', 4065.0), ('BJG', 4161.71), ('SHH', 4493.9), ('SHH', 4753.11), ('BJG', 5429.43), ('SHH', 5500.0), ('GZH', 5639.09), ('SHH', 5834.53), ('SHH', 6434.06), ('SHH', 6436.6), ('SHH', 7301.25), ('CQG', 7776.0), ('BJG', 7787.94), ('SHH', 8721.39), ('BJG', 9000.0), ('BJG', 9074.79), ('BJG', 10150.66), ('GZH', 12000.0), ('SHH', 14364.0), ('GZH', 16221.72), ('SHH', 16762.76), ('BJG', 16845.36), ('SHH', 17022.78), ('TJN', 19570.0), ('SHH', 21294.9), ('CQG', 21585.0), ('SHH', 21685.0), ('SHH', 21863.31), ('GZH', 24792.64), ('SHH', 28662.0), ('XIA', 28813.5), ('GZH', 30717.58), ('SHH', 33744.0), ('GZH', 36605.15), ('SHH', 38860.8), ('XIA', 39283.2), ('GZH', 41815.28), ('GZH', 43025.0), ('SHH', 49133.31), ('CQG', 53120.0), ('SHH', 53360.05), ('GZH', 53550.0), ('SHH', 64750.0), ('CQG', 67000.0), ('XIA', 68411.84), ('GZH', 70463.25)]<br>"
      ],
      "text/plain": [
       "<IPython.core.display.Markdown object>"
      ]
     },
     "metadata": {},
     "output_type": "display_data"
    },
    {
     "name": "stdout",
     "output_type": "stream",
     "text": [
      "1111111111\n",
      "[ChatMessage(role=<MessageRole.USER: 'user'>, content=\"Given an input question, first create a syntactically correct sqlite query , then look at the results of the query and return the answer. You can order the results by a relevant column to return the most interesting examples in the database.\\n\\nNever query for all the columns from a specific table, only ask for a few relevant columns given the question.\\n\\nPay attention to use only the column names that you can see in the schema description. Be careful to not query for columns that do not exist. Pay attention to which column is in which table. Also, qualify column names with the table name when needed. You are required to use the following format, each taking one line:\\n\\nQuestion: Question here\\nSQLQuery: SQL Query \\nSQLResult: Result of the SQLQuery\\nAnswer: Final answer here\\n\\nOnly use tables listed below.\\nTable 'bop_test_cases' has columns: id (INTEGER), branch (VARCHAR(16)), payment_type (VARCHAR(16)), customer_transaction_code1 (VARCHAR(16)), customer_transaction_amount1 (FLOAT), customer_transaction_postscript1 (VARCHAR(16)), final_transaction_code1 (VARCHAR(16)), final_transaction_amount1 (FLOAT), final_transaction_postscript1 (VARCHAR(16)), and foreign keys: .\\n\\nQuestion: What is  the top 44 branches (along with their amounts) with the highest customer_transaction_amount1.\\nSQLQuery: \", additional_kwargs={})]\n",
      "sql_query_str:SELECT branch, customer_transaction_amount1 FROM bop_test_cases ORDER BY customer_transaction_amount1 DESC LIMIT 44\n",
      "No SQL query found.\n"
     ]
    },
    {
     "data": {
      "text/markdown": [
       "**Node ID:** 601b4c8a-410d-4923-bfa6-7db9164d9357<br>**Similarity:** None<br>**Text:** [('SHH', 422104400.0), ('BJG', 90735372.47), ('BJG', 29300000.0), ('BJG', 11062394.84), ('BJG', 3400000.0), ('SHH', 1800546.42), ('SHH', 1400000.0), ('BJG', 811008.0), ('GZH', 802831.0), ('BJG', 609801.26), ('BJG', 562336.49), ('GZH', 537282.42), ('GZH', 490196.62), ('SHH', 391058.31), ('BJG', 316602.0), ('GZH', 300262.69), ('SHH', 264150.0), ('GZH', 258630.0), ('SHH', 258324.5), ('CQG', 216100.0), ('SHH', 171000.0), ('SHH', 111054.02), ('GZH', 99000.0), ('SHH', 97081.22), ('SHH', 77547.16), ('GZH', 70463.25), ('XIA', 68411.84), ('CQG', 67000.0), ('SHH', 64750.0), ('GZH', 53550.0), ('SHH', 53360.05), ('CQG', 53120.0), ('SHH', 49133.31), ('GZH', 43025.0), ('GZH', 41815.28), ('XIA', 39283.2), ('SHH', 38860.8), ('GZH', 36605.15), ('SHH', 33744.0), ('GZH', 30717.58), ('XIA', 28813.5), ('SHH', 28662.0), ('GZH', 24792.64), ('SHH', 21863.31)]<br>"
      ],
      "text/plain": [
       "<IPython.core.display.Markdown object>"
      ]
     },
     "metadata": {},
     "output_type": "display_data"
    },
    {
     "name": "stdout",
     "output_type": "stream",
     "text": [
      "1111111111\n",
      "[ChatMessage(role=<MessageRole.USER: 'user'>, content=\"Given an input question, first create a syntactically correct sqlite query , then look at the results of the query and return the answer. You can order the results by a relevant column to return the most interesting examples in the database.\\n\\nNever query for all the columns from a specific table, only ask for a few relevant columns given the question.\\n\\nPay attention to use only the column names that you can see in the schema description. Be careful to not query for columns that do not exist. Pay attention to which column is in which table. Also, qualify column names with the table name when needed. You are required to use the following format, each taking one line:\\n\\nQuestion: Question here\\nSQLQuery: SQL Query \\nSQLResult: Result of the SQLQuery\\nAnswer: Final answer here\\n\\nOnly use tables listed below.\\nTable 'bop_test_cases' has columns: id (INTEGER), branch (VARCHAR(16)), payment_type (VARCHAR(16)), customer_transaction_code1 (VARCHAR(16)), customer_transaction_amount1 (FLOAT), customer_transaction_postscript1 (VARCHAR(16)), final_transaction_code1 (VARCHAR(16)), final_transaction_amount1 (FLOAT), final_transaction_postscript1 (VARCHAR(16)), and foreign keys: .\\n\\nQuestion: What is  the top 49 branches (along with their amounts) with the highest customer_transaction_amount1.\\nSQLQuery: \", additional_kwargs={})]\n",
      "sql_query_str:SELECT branch, customer_transaction_amount1 FROM bop_test_cases ORDER BY customer_transaction_amount1 DESC LIMIT 49\n",
      "No SQL query found.\n"
     ]
    },
    {
     "data": {
      "text/markdown": [
       "**Node ID:** 27484189-76e8-44e8-b7d3-5378da594c13<br>**Similarity:** None<br>**Text:** [('SHH', 422104400.0), ('BJG', 90735372.47), ('BJG', 29300000.0), ('BJG', 11062394.84), ('BJG', 3400000.0), ('SHH', 1800546.42), ('SHH', 1400000.0), ('BJG', 811008.0), ('GZH', 802831.0), ('BJG', 609801.26), ('BJG', 562336.49), ('GZH', 537282.42), ('GZH', 490196.62), ('SHH', 391058.31), ('BJG', 316602.0), ('GZH', 300262.69), ('SHH', 264150.0), ('GZH', 258630.0), ('SHH', 258324.5), ('CQG', 216100.0), ('SHH', 171000.0), ('SHH', 111054.02), ('GZH', 99000.0), ('SHH', 97081.22), ('SHH', 77547.16), ('GZH', 70463.25), ('XIA', 68411.84), ('CQG', 67000.0), ('SHH', 64750.0), ('GZH', 53550.0), ('SHH', 53360.05), ('CQG', 53120.0), ('SHH', 49133.31), ('GZH', 43025.0), ('GZH', 41815.28), ('XIA', 39283.2), ('SHH', 38860.8), ('GZH', 36605.15), ('SHH', 33744.0), ('GZH', 30717.58), ('XIA', 28813.5), ('SHH', 28662.0), ('GZH', 24792.64), ('SHH', 21863.31), ('SHH', 21685.0), ('CQG', 21585.0), ('SHH', 21294.9), ('TJN', 19570.0), ('SHH', 17022.78)]<br>"
      ],
      "text/plain": [
       "<IPython.core.display.Markdown object>"
      ]
     },
     "metadata": {},
     "output_type": "display_data"
    },
    {
     "name": "stdout",
     "output_type": "stream",
     "text": [
      "程序运行时间为： 55.73963952064514 秒\n"
     ]
    }
   ],
   "source": [
    "import json\n",
    "from llama_index.core.retrievers import NLSQLRetriever\n",
    "import time\n",
    "from llama_index.core.response.notebook_utils import display_source_node\n",
    "\n",
    "with open('output.json', 'r' ,encoding='GBK') as f:\n",
    "    data = json.load(f)\n",
    "questions = [data[i]['question'] for i in range(len(data))]\n",
    "sql_queries = [data[i]['sql_query'] for i in range(len(data))]\n",
    "start_time = time.time()\n",
    "outputs = []\n",
    "with open('results.txt', 'w', encoding='utf-8') as file:\n",
    "    for question in questions:\n",
    "        nl_sql_retriever = NLSQLRetriever(\n",
    "            sql_database, tables=[\"bop_test_cases\"], return_raw=True,llm=llm\n",
    "        )\n",
    "        results = nl_sql_retriever.retrieve(question)\n",
    "        file.write(f\"Question: {question}\\n\")\n",
    "        for n in results:\n",
    "            outputs.append(display_source_node(n, source_length=10000))\n",
    "        file.write(f\"Answer: {outputs[-1]}\\n\")\n",
    "end_time = time.time()\n",
    "execution_time = end_time - start_time\n",
    "print(\"程序运行时间为：\", execution_time, \"秒\")"
   ]
  },
  {
   "cell_type": "code",
   "execution_count": null,
   "metadata": {},
   "outputs": [],
   "source": [
    "from llama_index.core.retrievers import NLSQLRetriever\n",
    "\n",
    "# default retrieval (return_raw=True)\n",
    "nl_sql_retriever = NLSQLRetriever(\n",
    "    sql_database, tables=[\"bop_test_cases\"], return_raw=True,llm=llm\n",
    ")"
   ]
  },
  {
   "cell_type": "code",
   "execution_count": null,
   "metadata": {
    "scrolled": true
   },
   "outputs": [
    {
     "name": "stdout",
     "output_type": "stream",
     "text": [
      "1111111111\n",
      "[ChatMessage(role=<MessageRole.USER: 'user'>, content=\"Given an input question, first create a syntactically correct sqlite query , then look at the results of the query and return the answer. You can order the results by a relevant column to return the most interesting examples in the database.\\n\\nNever query for all the columns from a specific table, only ask for a few relevant columns given the question.\\n\\nPay attention to use only the column names that you can see in the schema description. Be careful to not query for columns that do not exist. Pay attention to which column is in which table. Also, qualify column names with the table name when needed. You are required to use the following format, each taking one line:\\n\\nQuestion: Question here\\nSQLQuery: SQL Query \\nSQLResult: Result of the SQLQuery\\nAnswer: Final answer here\\n\\nOnly use tables listed below.\\nTable 'bop_test_cases' has columns: id (INTEGER), branch (VARCHAR(16)), payment_type (VARCHAR(16)), customer_transaction_code1 (VARCHAR(16)), customer_transaction_amount1 (FLOAT), customer_transaction_postscript1 (VARCHAR(16)), final_transaction_code1 (VARCHAR(16)), final_transaction_amount1 (FLOAT), final_transaction_postscript1 (VARCHAR(16)), and foreign keys: .\\n\\nQuestion: Return the branch and customer_transaction_postscript1 values for records where customer_transaction_code1 equals final_transaction_code1.\\nSQLQuery: \", additional_kwargs={})]\n",
      "sql_query_str:SELECT branch, customer_transaction_postscript1 FROM bop_test_cases WHERE customer_transaction_code1 = final_transaction_code1;\n"
     ]
    }
   ],
   "source": [
    "results = nl_sql_retriever.retrieve(\n",
    "    # \"Return the top 5 branches (along with their amounts) with the smallest amount.\"\n",
    "    \"Return the branch and customer_transaction_postscript1 values for records where customer_transaction_code1 equals final_transaction_code1.\"\n",
    ")\n"
   ]
  },
  {
   "cell_type": "code",
   "execution_count": null,
   "metadata": {},
   "outputs": [
    {
     "data": {
      "text/markdown": [
       "**Node ID:** e46fb8ab-26fd-4ebb-884e-67b857cd91c7<br>**Similarity:** None<br>**Text:** [('BJG', '再保险支出财产险'), ('BJG', '偿还联属企业代垫不超过12个月外籍员工因公差旅费'), ('BJG', '计算机服务费'), ('BJG', '财务管理支持服务费 '), ('BJG', '外籍员工工资'), ('BJG', '公关服务费'), ('BJG', '非批量订购期刊'), ('BJG', '空运客运机票款'), ('BJG', '涉及我国出口的空中货运服务费'), ('BJG', '不涉及我国进出口的海洋货运服务费')]<br>"
      ],
      "text/plain": [
       "<IPython.core.display.Markdown object>"
      ]
     },
     "metadata": {},
     "output_type": "display_data"
    }
   ],
   "source": [
    "from llama_index.core.response.notebook_utils import display_source_node\n",
    "\n",
    "for n in results:\n",
    "    display_source_node(n,source_length=1000)"
   ]
  },
  {
   "cell_type": "code",
   "execution_count": null,
   "metadata": {},
   "outputs": [],
   "source": [
    "# default retrieval (return_raw=False)\n",
    "nl_sql_retriever = NLSQLRetriever(\n",
    "    sql_database, tables=[\"bop_test_cases\"], return_raw=False,llm=llm\n",
    ")"
   ]
  },
  {
   "cell_type": "code",
   "execution_count": null,
   "metadata": {},
   "outputs": [
    {
     "data": {
      "text/markdown": [
       "**Node ID:** e46fb8ab-26fd-4ebb-884e-67b857cd91c7<br>**Similarity:** None<br>**Text:** [('BJG', '再保险支出财产险'), ('BJG', '偿还联属企业代垫不超过12个月外籍员工因公差旅费'), ('BJG', '计算机服务费'), ('BJG', '财务管理支持服务费 '), ('BJG', '外籍员工工资'), ('BJG', '公关服务费'), ('BJG', '非批量订购期刊'), ('BJG', '空运客运机票款'), ('BJG', '涉及我国出口的空中货运服务费'), ('BJG', '不涉及我国进出口的海洋货运服务费')]<br>**Metadata:** {}<br>"
      ],
      "text/plain": [
       "<IPython.core.display.Markdown object>"
      ]
     },
     "metadata": {},
     "output_type": "display_data"
    }
   ],
   "source": [
    "# NOTE: all the content is in the metadata\n",
    "for n in results:\n",
    "    display_source_node(n, show_source_metadata=True,source_length=1000)"
   ]
  },
  {
   "cell_type": "code",
   "execution_count": null,
   "metadata": {},
   "outputs": [
    {
     "name": "stdout",
     "output_type": "stream",
     "text": [
      "[(2294639.0,)]\n"
     ]
    }
   ],
   "source": [
    "from sqlalchemy import text\n",
    "output = []\n",
    "ground_truth = []\n",
    "# 假设 engine 是你的数据库引擎对象\n",
    "with engine.connect() as con:\n",
    "    # 执行问题一的查询\n",
    "    rows = con.execute(text(\"\"\"\n",
    "        SELECT\n",
    "            ABS(sum_first_condition - sum_second_condition) AS amount_difference\n",
    "        FROM\n",
    "            (\n",
    "                SELECT\n",
    "                    SUM(final_transaction_amount1) AS sum_first_condition\n",
    "                FROM\n",
    "                    bop_test_cases\n",
    "                WHERE\n",
    "                    payment_type = '预付货款'\n",
    "            ) first_sum,\n",
    "            (\n",
    "                SELECT\n",
    "                    SUM(final_transaction_amount1) AS sum_second_condition\n",
    "                FROM\n",
    "                    bop_test_cases\n",
    "                WHERE\n",
    "                    branch = 'TJN'\n",
    "            ) second_sum;\n",
    "    \"\"\"))\n",
    "    for row in rows:\n",
    "        output.append(row)\n",
    "    # ground_truth.append(output)\n",
    "    # output = []  \n",
    "\n",
    "    # # 执行问题二的查询\n",
    "    # rows = con.execute(text(\"\"\"\n",
    "    #     SELECT branch, customer_transaction_amount1\n",
    "    #     FROM bop_test_cases\n",
    "    #     ORDER BY customer_transaction_amount1 DESC\n",
    "    #     LIMIT 5;\n",
    "    # \"\"\"))\n",
    "    # for row in rows:\n",
    "    #     output.append(row)\n",
    "    # ground_truth.append(output)\n",
    "    # output = []  \n",
    "    # # 执行问题三的查询\n",
    "    # rows = con.execute(text(\"\"\"\n",
    "    #     SELECT *\n",
    "    #     FROM bop_test_cases\n",
    "    #     WHERE branch = 'BJG' AND payment_type = '其他';\n",
    "    # \"\"\"))\n",
    "    # for row in rows:\n",
    "    #     output.append(row)\n",
    "    # ground_truth.append(output)\n",
    "    # output = []  \n",
    "    print(output)"
   ]
  },
  {
   "cell_type": "code",
   "execution_count": null,
   "metadata": {},
   "outputs": [],
   "source": [
    "from sqlalchemy import text\n",
    "\n",
    "output = []\n",
    "ground_truth = []\n",
    "\n",
    "# 假设 engine 是你的数据库引擎对象\n",
    "with engine.connect() as con:\n",
    "    # 遍历每个查询\n",
    "    for query in sql_queries:\n",
    "        rows = con.execute(text(query))\n",
    "        for row in rows:\n",
    "            output.append(row)\n",
    "        ground_truth.append(output)\n",
    "        output = []\n"
   ]
  },
  {
   "cell_type": "code",
   "execution_count": null,
   "metadata": {},
   "outputs": [],
   "source": [
    "ground_truth = [str(x) for x in ground_truth]"
   ]
  },
  {
   "cell_type": "code",
   "execution_count": null,
   "metadata": {},
   "outputs": [
    {
     "name": "stdout",
     "output_type": "stream",
     "text": [
      "['[(123359031.24000001,)]', '[(439361402.58,)]', '[(2189777.73,)]', '[(124273240.87,)]', '[(439316222.58,)]', '[(437980972.58,)]', '[(124273240.87,)]', '[(125307659.87,)]', '[(2172749.76,)]', '[(136862489.65,)]', '[(424827305.13,)]', '[(424309137.82,)]', '[(424309137.82,)]', '[(427140599.69,)]', '[(122840863.93,)]', '[(313707731.71,)]', '[(2314074.54,)]', '[(360081.0,)]', '[(87903805.53,)]', '[(168.34000000000003,)]', '[(2168065.63,)]', '[(425741514.76,)]', '[(136497655.38,)]', '[(145228.93,)]', '[(235246.88,)]', '[(136717092.38,)]', '[(2060505.8599999999,)]', '[(90735267.4,)]', '[(11189995.50999999,)]', '[(439375543.15,)]', '[(439377441.58,)]', '[(70.56999999999971,)]', '[(2294639.63,)]', '[(2313462.9,)]', '[(440381142.77,)]', '[(134030859.44,)]', '[(439234828.58,)]', '[(439364127.21999997,)]', '[(125608490.87,)]', '[(293594.21,)]', '[(1085790.37,)]', '[(439234828.58,)]', '[(439361402.58,)]', '[(219437.0,)]', '[(439361402.58,)]', '[(237610.54,)]', '[(1102874.79,)]', '[(2168065.63,)]', '[(290278278.38,)]', '[(313707731.71,)]']\n",
      "['[(123359031.24000001,)]', 'Error: Statement \"sql\\\\nSELECT \\\\n    ABS(\\\\n        (SELECT SUM(customer_transaction_amount1) \\\\n         FROM bop_test_cases \\\\n         WHERE payment_type = \\'货到付款\\') - \\\\n        (SELECT SUM(customer_transaction_amount1) \\\\n         FROM bop_test_cases \\\\n         WHERE customer_transaction_code1 = \\'222019\\')\\\\n    ) AS difference\\\\n```\\\\n\\\\nLet\\'s execute this query to find the result.\" is invalid SQL.', '[(2189777.73,)]', '[(124273240.87,)]', '[(439316222.58,)]', '[(437980972.58,)]', '[(124273240.87,)]', '[(125307659.87,)]', '[(2172749.76,)]', '[(136862489.65,)]', '[(424827305.13,)]', '[]', '[]', '[(427140599.69,)]', 'Error: Statement \"SELECT ABS(SUM(CASE WHEN branch = \\'GZH\\' THEN customer_transaction_amount1 ELSE 0 END) - SUM(CASE WHEN payment_type = \\'其他\\' THEN customer_transaction_amount1 ELSE 0 END)) AS difference\\\\nFROM bop_test_cases\\\\n```\\\\n\\\\nSQLResult: [This is where the actual result of the SQL query would be placed after running the query on a database]\\\\n\\\\nAnswer: [This is where the final answer would be provided based on the SQLResult]\\\\n\\\\nPlease note that the regular expression pattern `^\\\\\\\\d$` indicates that the result should be a single digit. If the actual difference is not a single digit, the query result would not match the pattern. The query provided does not enforce this pattern;\" is invalid SQL.', '[(313707731.71,)]', '[(2314074.54,)]', '[(360081.0,)]', '[]', '[(168.34000000000003,)]', '[(2168065.63,)]', '[(425741514.76,)]', '[(136497655.38,)]', '[(145228.93,)]', '[(235246.88,)]', '[(136717092.38,)]', '[(2060505.8599999999,)]', '[(90735267.4,)]', '[(11189995.50999999,)]', '[(439375543.15,)]', '[(439377441.58,)]', '[(70.56999999999971,)]', '[(2294639.63,)]', '[(2313462.9,)]', '[(440381142.77,)]', '[(134030859.44,)]', '[(439234828.58,)]', '[(439364127.21999997,)]', '[(125608490.87,)]', '[(293594.21,)]', '[(1085790.37,)]', '[(439234828.58,)]', '[(439361402.58,)]', '[(219437.0,)]', '[(439361402.58,)]', '[(237610.54,)]', '[(1102874.79,)]', '[(2168065.63,)]', '[]', '[(313707731.71,)]']\n"
     ]
    }
   ],
   "source": [
    "print(ground_truth)\n",
    "print(outputs)"
   ]
  },
  {
   "cell_type": "code",
   "execution_count": null,
   "metadata": {},
   "outputs": [
    {
     "name": "stdout",
     "output_type": "stream",
     "text": [
      "Number of matches: 44\n"
     ]
    }
   ],
   "source": [
    "cnt = 0\n",
    "with open('output1.txt', 'w') as file:\n",
    "    for i in range(len(outputs)):\n",
    "        if ground_truth[i] == outputs[i]:\n",
    "            cnt += 1\n",
    "        else:\n",
    "            file.write(f\"Index: {i}\\n\")\n",
    "            file.write(f\"Output: {outputs[i]}\\n\")\n",
    "            file.write(f\"Ground Truth: {ground_truth[i]}\\n\")\n",
    "            file.write(\"\\n\")  # 添加一个空行来分隔每个条目\n",
    "\n",
    "# 打印匹配的计数\n",
    "print(f\"Number of matches: {cnt}\")"
   ]
  },
  {
   "cell_type": "code",
   "execution_count": 1,
   "metadata": {
    "scrolled": false
   },
   "outputs": [
    {
     "name": "stdout",
     "output_type": "stream",
     "text": [
      "/* Some SQL examples are provided based on similar problems: */\n",
      "/* Answer the following: How many employees do we have? */\n",
      "SELECT count(*) FROM Employee\n",
      "\n",
      "/* Answer the following: How many accounts do we have? */\n",
      "SELECT count(*) FROM Accounts\n",
      "\n",
      "/* Answer the following: How many regions do we have? */\n",
      "SELECT count(*) FROM region\n",
      "\n",
      "/* Answer the following: How many accounts do we have? */\n",
      "SELECT count(*) FROM Accounts\n",
      "\n",
      "/* Answer the following: How many activities do we have? */\n",
      "SELECT count(*) FROM Activity\n",
      "\n",
      "/* Answer the following: How many aircrafts do we have? */\n",
      "SELECT count(*) FROM Aircraft\n",
      "\n",
      "/* Answer the following: How many flights do we have? */\n",
      "SELECT count(*) FROM Flight\n",
      "\n",
      "/* Answer the following: How many customers do we have? */\n",
      "SELECT count(*) FROM Customers\n",
      "\n",
      "/* Answer the following: How many tracks do we have? */\n",
      "SELECT count(*) FROM track\n",
      "\n",
      "/* Given the following database schema: */\n",
      "CREATE TABLE \"stadium\" (\n",
      "\"Stadium_ID\" int,\n",
      "\"Location\" text,\n",
      "\"Name\" text,\n",
      "\"Capacity\" int,\n",
      "\"Highest\" int,\n",
      "\"Lowest\" int,\n",
      "\"Average\" int,\n",
      "PRIMARY KEY (\"Stadium_ID\")\n",
      ")\n",
      "\n",
      "CREATE TABLE \"singer\" (\n",
      "\"Singer_ID\" int,\n",
      "\"Name\" text,\n",
      "\"Country\" text,\n",
      "\"Song_Name\" text,\n",
      "\"Song_release_year\" text,\n",
      "\"Age\" int,\n",
      "\"Is_male\" bool,\n",
      "PRIMARY KEY (\"Singer_ID\")\n",
      ")\n",
      "\n",
      "CREATE TABLE \"concert\" (\n",
      "\"concert_ID\" int,\n",
      "\"concert_Name\" text,\n",
      "\"Theme\" text,\n",
      "\"Stadium_ID\" text,\n",
      "\"Year\" text,\n",
      "PRIMARY KEY (\"concert_ID\"),\n",
      "FOREIGN KEY (\"Stadium_ID\") REFERENCES \"stadium\"(\"Stadium_ID\")\n",
      ")\n",
      "\n",
      "CREATE TABLE \"singer_in_concert\" (\n",
      "\"concert_ID\" int,\n",
      "\"Singer_ID\" text,\n",
      "PRIMARY KEY (\"concert_ID\",\"Singer_ID\"),\n",
      "FOREIGN KEY (\"concert_ID\") REFERENCES \"concert\"(\"concert_ID\"),\n",
      "FOREIGN KEY (\"Singer_ID\") REFERENCES \"singer\"(\"Singer_ID\")\n",
      ")\n",
      "\n",
      "/* Answer the following: How many singers do we have? */\n",
      "SELECT \n"
     ]
    }
   ],
   "source": [
    "print( \"/* Some SQL examples are provided based on similar problems: */\\n/* Answer the following: How many employees do we have? */\\nSELECT count(*) FROM Employee\\n\\n/* Answer the following: How many accounts do we have? */\\nSELECT count(*) FROM Accounts\\n\\n/* Answer the following: How many regions do we have? */\\nSELECT count(*) FROM region\\n\\n/* Answer the following: How many accounts do we have? */\\nSELECT count(*) FROM Accounts\\n\\n/* Answer the following: How many activities do we have? */\\nSELECT count(*) FROM Activity\\n\\n/* Answer the following: How many aircrafts do we have? */\\nSELECT count(*) FROM Aircraft\\n\\n/* Answer the following: How many flights do we have? */\\nSELECT count(*) FROM Flight\\n\\n/* Answer the following: How many customers do we have? */\\nSELECT count(*) FROM Customers\\n\\n/* Answer the following: How many tracks do we have? */\\nSELECT count(*) FROM track\\n\\n/* Given the following database schema: */\\nCREATE TABLE \\\"stadium\\\" (\\n\\\"Stadium_ID\\\" int,\\n\\\"Location\\\" text,\\n\\\"Name\\\" text,\\n\\\"Capacity\\\" int,\\n\\\"Highest\\\" int,\\n\\\"Lowest\\\" int,\\n\\\"Average\\\" int,\\nPRIMARY KEY (\\\"Stadium_ID\\\")\\n)\\n\\nCREATE TABLE \\\"singer\\\" (\\n\\\"Singer_ID\\\" int,\\n\\\"Name\\\" text,\\n\\\"Country\\\" text,\\n\\\"Song_Name\\\" text,\\n\\\"Song_release_year\\\" text,\\n\\\"Age\\\" int,\\n\\\"Is_male\\\" bool,\\nPRIMARY KEY (\\\"Singer_ID\\\")\\n)\\n\\nCREATE TABLE \\\"concert\\\" (\\n\\\"concert_ID\\\" int,\\n\\\"concert_Name\\\" text,\\n\\\"Theme\\\" text,\\n\\\"Stadium_ID\\\" text,\\n\\\"Year\\\" text,\\nPRIMARY KEY (\\\"concert_ID\\\"),\\nFOREIGN KEY (\\\"Stadium_ID\\\") REFERENCES \\\"stadium\\\"(\\\"Stadium_ID\\\")\\n)\\n\\nCREATE TABLE \\\"singer_in_concert\\\" (\\n\\\"concert_ID\\\" int,\\n\\\"Singer_ID\\\" text,\\nPRIMARY KEY (\\\"concert_ID\\\",\\\"Singer_ID\\\"),\\nFOREIGN KEY (\\\"concert_ID\\\") REFERENCES \\\"concert\\\"(\\\"concert_ID\\\"),\\nFOREIGN KEY (\\\"Singer_ID\\\") REFERENCES \\\"singer\\\"(\\\"Singer_ID\\\")\\n)\\n\\n/* Answer the following: How many singers do we have? */\\nSELECT \")"
   ]
  },
  {
   "cell_type": "code",
   "execution_count": null,
   "metadata": {},
   "outputs": [],
   "source": [
    "    {\n",
    "        \"db_id\": \"california_schools\",\n",
    "        \"question\": \"What is the highest eligible free rate for K-12 students in the schools in Alameda County?\",\n",
    "        \"evidence\": \"Eligible free rate for K-12 = `Free Meal Count (K-12)` / `Enrollment (K-12)`\",\n",
    "        \"SQL\": \"\"\n",
    "    },\n"
   ]
  },
  {
   "cell_type": "code",
   "execution_count": 3,
   "metadata": {},
   "outputs": [
    {
     "ename": "SyntaxError",
     "evalue": "invalid syntax (2298925954.py, line 1)",
     "output_type": "error",
     "traceback": [
      "\u001b[1;36m  Cell \u001b[1;32mIn [3], line 1\u001b[1;36m\u001b[0m\n\u001b[1;33m    print(\"{\"db_id\": \"department_management\", \"query\": \"SELECT count(*) FROM head WHERE age  >  56\", \"query_toks\": [\"SELECT\", \"count\", \"(\", \"*\", \")\", \"FROM\", \"head\", \"WHERE\", \"age\", \">\", \"56\"], \"query_toks_no_value\": [\"select\", \"count\", \"(\", \"*\", \")\", \"from\", \"head\", \"where\", \"age\", \">\", \"value\"], \"question\": \"How many heads of the departments are older than 56 ?\", \"question_toks\": [\"How\", \"many\", \"heads\", \"of\", \"the\", \"departments\", \"are\", \"older\", \"than\", \"56\", \"?\"], \"sql\": {\"from\": {\"table_units\": [[\"table_unit\", 1]], \"conds\": []}, \"select\": [false, [[3, [0, [0, 0, false], null]]]], \"where\": [[false, 3, [0, [0, 10, false], null], 56.0, null]], \"groupBy\": [], \"having\": [], \"orderBy\": [], \"limit\": null, \"intersect\": null, \"union\": null, \"except\": null}}\")\u001b[0m\n\u001b[1;37m             ^\u001b[0m\n\u001b[1;31mSyntaxError\u001b[0m\u001b[1;31m:\u001b[0m invalid syntax\n"
     ]
    }
   ],
   "source": [
    "print({\"db_id\": \"department_management\", \"query\": \"SELECT count(*) FROM head WHERE age  >  56\", \"query_toks\": [\"SELECT\", \"count\", \"(\", \"*\", \")\", \"FROM\", \"head\", \"WHERE\", \"age\", \">\", \"56\"], \"query_toks_no_value\": [\"select\", \"count\", \"(\", \"*\", \")\", \"from\", \"head\", \"where\", \"age\", \">\", \"value\"], \"question\": \"How many heads of the departments are older than 56 ?\", \"question_toks\": [\"How\", \"many\", \"heads\", \"of\", \"the\", \"departments\", \"are\", \"older\", \"than\", \"56\", \"?\"], \"sql\": {\"from\": {\"table_units\": [[\"table_unit\", 1]], \"conds\": []}, \"select\": [false, [[3, [0, [0, 0, false], null]]]], \"where\": [[false, 3, [0, [0, 10, false], null], 56.0, null]], \"groupBy\": [], \"having\": [], \"orderBy\": [], \"limit\": null, \"intersect\": null, \"union\": null, \"except\": null}}\")"
   ]
  },
  {
   "cell_type": "code",
   "execution_count": null,
   "metadata": {},
   "outputs": [],
   "source": []
  }
 ],
 "metadata": {
  "kernelspec": {
   "display_name": "Python 3 (ipykernel)",
   "language": "python",
   "name": "python3"
  },
  "language_info": {
   "codemirror_mode": {
    "name": "ipython",
    "version": 3
   },
   "file_extension": ".py",
   "mimetype": "text/x-python",
   "name": "python",
   "nbconvert_exporter": "python",
   "pygments_lexer": "ipython3",
   "version": "3.9.15"
  }
 },
 "nbformat": 4,
 "nbformat_minor": 2
}

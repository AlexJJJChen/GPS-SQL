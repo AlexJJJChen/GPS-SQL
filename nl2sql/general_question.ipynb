{
 "cells": [
  {
   "cell_type": "code",
   "execution_count": 1,
   "metadata": {},
   "outputs": [],
   "source": [
    "import pandas as pd\n",
    "from sqlalchemy import create_engine, MetaData, Table, Column, Integer, String\n",
    "import json\n",
    "import random\n",
    "excel_file = \"./bop.xlsx\"  \n",
    "df = pd.read_excel(excel_file)"
   ]
  },
  {
   "cell_type": "markdown",
   "metadata": {},
   "source": [
    "## 升序降序取topk 200"
   ]
  },
  {
   "cell_type": "code",
   "execution_count": 14,
   "metadata": {},
   "outputs": [],
   "source": [
    "questions_and_queries = []\n",
    "for i in range(5):\n",
    "    flag = random.randint(0,1)\n",
    "    a = random.randint(1, len(df) - 1)\n",
    "    if(flag):\n",
    "        question = f\"What is the top {a} branches (along with their amounts) with the smallest customer_transaction_amount1.\"\n",
    "        sql_query = f\"\"\"\n",
    "        SELECT branch, customer_transaction_amount1\n",
    "        FROM bop_test_cases\n",
    "        ORDER BY customer_transaction_amount1 ASC\n",
    "        LIMIT {a};\n",
    "        \"\"\"\n",
    "    else:\n",
    "        question = f\"What is  the top {a} branches (along with their amounts) with the highest customer_transaction_amount1.\"\n",
    "        sql_query = f\"\"\"\n",
    "        SELECT branch, customer_transaction_amount1\n",
    "        FROM bop_test_cases\n",
    "        ORDER BY customer_transaction_amount1 DESC\n",
    "        LIMIT {a};\n",
    "        \"\"\"\n",
    "    questions_and_queries.append({\"question\": question, \"sql_query\": sql_query})\n",
    "#     questions_and_queries.append({\"db_id\": \"bop\",\"question\": question,\"evidence\": \"\", \"SQL\": \"\"})\n",
    "\n",
    "# json_data = json.dumps(questions_and_queries,ensure_ascii=False,indent=2)"
   ]
  },
  {
   "cell_type": "markdown",
   "metadata": {},
   "source": [
    "## 按条件筛选Return all data with branch as BJG and payment_type as '其他' 100"
   ]
  },
  {
   "cell_type": "code",
   "execution_count": 15,
   "metadata": {
    "scrolled": true
   },
   "outputs": [],
   "source": [
    "# questions_and_queries = []\n",
    "column_mapping_reversed = {\n",
    "    \"Branch\": \"branch\",\n",
    "    \"付款类型\": \"payment_type\",\n",
    "    \"客户提供的交易编码1\": \"customer_transaction_code1\",\n",
    "    \"客户提供的交易金额1\": \"customer_transaction_amount1\",\n",
    "    \"客户提供的交易附言1\": \"customer_transaction_postscript1\",\n",
    "    \"最终的交易编码1\": \"final_transaction_code1\",\n",
    "    \"最终的相应金额1\": \"final_transaction_amount1\",\n",
    "    \"最终的交易附言1\": \"final_transaction_postscript1\",\n",
    "}\n",
    "\n",
    "for i in range(5):\n",
    "    a = random.randint(0, len(df) - 1)\n",
    "    random_column = random.choice(df.columns)\n",
    "    column1 = random_column\n",
    "    while column1 == random_column:\n",
    "        random_column = random.choice(df.columns)\n",
    "    column2 = random_column\n",
    "    question = f\"Return all data with {column_mapping_reversed[column1]} as {df[column1][a]} and {column_mapping_reversed[column2]} as {df[column2][a]}.\"\n",
    "    sql_query = f\"\"\"\n",
    "    SELECT *\n",
    "        FROM bop_test_cases\n",
    "        WHERE {column_mapping_reversed[column1]} = '{df[column1][a]}' AND {column_mapping_reversed[column2]} = '{df[column2][a]}';\n",
    "    \"\"\"\n",
    "    questions_and_queries.append({\"question\": question, \"sql_query\": sql_query})\n",
    "#     questions_and_queries.append({\"question\": question})\n",
    "#     questions_and_queries.append({\"db_id\": \"bop\",\"question\": question,\"evidence\": \"\", \"SQL\": \"\"})\n"
   ]
  },
  {
   "cell_type": "code",
   "execution_count": 87,
   "metadata": {
    "scrolled": true
   },
   "outputs": [
    {
     "data": {
      "text/plain": [
       "'What is the top 70 branches (along with their amounts) with the smallest customer_transaction_amount1.'"
      ]
     },
     "execution_count": 87,
     "metadata": {},
     "output_type": "execute_result"
    }
   ],
   "source": [
    "with open('output.json', 'r') as f:\n",
    "    data = json.load(f)\n",
    "data[0]['question']"
   ]
  },
  {
   "cell_type": "markdown",
   "metadata": {},
   "source": [
    "## 求和 Return the sum of all customer_transaction_amount1 with customer_transaction_code1 as ……     200"
   ]
  },
  {
   "cell_type": "code",
   "execution_count": 16,
   "metadata": {
    "scrolled": true
   },
   "outputs": [],
   "source": [
    "codes = list(set(df['客户提供的交易编码1']))\n",
    "branches = list(set(df['Branch']))\n",
    "payment_types = list(set(df['付款类型']))\n",
    "# questions_and_queries = []\n",
    "for i in range(5):\n",
    "    random_code = random.choice(codes)\n",
    "    random_branch = random.choice(branches)\n",
    "    random_payment_type = random.choice(payment_types)\n",
    "\n",
    "    choices = [\n",
    "        (random_code, 'customer_transaction_code1'),\n",
    "        (random_branch, 'branch'),\n",
    "        (random_payment_type, 'payment_type')\n",
    "    ]\n",
    "\n",
    "    final_choice, condition = random.choice(choices)\n",
    "\n",
    "    flag = random.randint(0,1)\n",
    "    if (flag):\n",
    "        question = f\"Return the sum of all customer_transaction_amount1 with {condition} as {final_choice}.\"\n",
    "        sql_query = f\"\"\"\n",
    "            SELECT SUM(customer_transaction_amount1)\n",
    "            FROM bop_test_cases\n",
    "            WHERE {condition} = '{final_choice}';\n",
    "        \"\"\"\n",
    "    else:\n",
    "        question = f\"Return the sum of all final_transaction_amount1 with {condition} as {final_choice}.\"\n",
    "        sql_query = f\"\"\"\n",
    "            SELECT SUM(final_transaction_amount1)\n",
    "            FROM bop_test_cases\n",
    "            WHERE {condition} = '{final_choice}';\n",
    "        \"\"\"\n",
    "    questions_and_queries.append({\"question\": question, \"sql_query\": sql_query})\n",
    "#     questions_and_queries.append({\"db_id\": \"bop\",\"question\": question,\"evidence\": \"\", \"SQL\": \"\"})\n",
    "\n",
    "# 将字典转换成 JSON 格式\n",
    "# json_data = json.dumps(questions_and_queries,ensure_ascii=False)\n",
    "# print(json_data)"
   ]
  },
  {
   "cell_type": "markdown",
   "metadata": {},
   "source": [
    "## 减法 100 \n",
    "todo 计算后的小数位数"
   ]
  },
  {
   "cell_type": "code",
   "execution_count": 10,
   "metadata": {
    "scrolled": true
   },
   "outputs": [],
   "source": [
    "codes = list(set(df['客户提供的交易编码1']))\n",
    "branches = list(set(df['Branch']))\n",
    "payment_types = list(set(df['付款类型']))\n",
    "# questions_and_queries = []\n",
    "for i in range(5):\n",
    "    # 第一次随机选择\n",
    "    random_code = random.choice(codes)\n",
    "    random_branch = random.choice(branches)\n",
    "    random_payment_type = random.choice(payment_types)\n",
    "\n",
    "    choices = [\n",
    "        (random_code, 'customer_transaction_code1'),\n",
    "        (random_branch, 'branch'),\n",
    "        (random_payment_type, 'payment_type')\n",
    "    ]\n",
    "\n",
    "    first_choice, first_condition = random.choice(choices)\n",
    "\n",
    "    # 第二次随机选择\n",
    "    random_code = random.choice(codes)\n",
    "    random_branch = random.choice(branches)\n",
    "    random_payment_type = random.choice(payment_types)\n",
    "\n",
    "    choices = [\n",
    "        (random_code, 'customer_transaction_code1'),\n",
    "        (random_branch, 'branch'),\n",
    "        (random_payment_type, 'payment_type')\n",
    "    ]\n",
    "    \n",
    "    second_choice, second_condition = random.choice(choices)\n",
    "    while second_choice == first_choice:\n",
    "        second_choice, second_condition = random.choice(choices)\n",
    "    if (flag):\n",
    "        question = f\"Subtract the sums of customer_transaction_amount1 for two sets of data: the first set where {first_condition} = {first_choice}, and the second set where {second_condition} = {second_choice},only the difference between these two sums is returned.Ensure the output matches the following regular expression pattern:^\\d$.\"\n",
    "        sql_query = f\"\"\"\n",
    "            SELECT\n",
    "                ABS(sum_first_condition - sum_second_condition) AS amount_difference\n",
    "            FROM\n",
    "                (\n",
    "                    SELECT\n",
    "                        SUM(customer_transaction_amount1) AS sum_first_condition\n",
    "                    FROM\n",
    "                        bop_test_cases\n",
    "                    WHERE\n",
    "                        {first_condition} = '{first_choice}'\n",
    "                ) first_sum,\n",
    "                (\n",
    "                    SELECT\n",
    "                        SUM(customer_transaction_amount1) AS sum_second_condition\n",
    "                    FROM\n",
    "                        bop_test_cases\n",
    "                    WHERE\n",
    "                        {second_condition} = '{second_choice}'\n",
    "                ) second_sum;\n",
    "        \"\"\"\n",
    "    else:\n",
    "        question = f\"Subtract the sums of final_transaction_amount1 for two sets of data: the first set where {first_condition} = {first_choice}, and the second set where {second_condition} = {second_choice}，only the difference between these two sums is returned.Ensure the output matches the following regular expression pattern:^\\d$.\"\n",
    "        sql_query = f\"\"\"\n",
    "            SELECT\n",
    "                ABS(sum_first_condition - sum_second_condition) AS amount_difference\n",
    "            FROM\n",
    "                (\n",
    "                    SELECT\n",
    "                        SUM(final_transaction_amount1) AS sum_first_condition\n",
    "                    FROM\n",
    "                        bop_test_cases\n",
    "                    WHERE\n",
    "                        {first_condition} = '{first_choice}'\n",
    "                ) first_sum,\n",
    "                (\n",
    "                    SELECT\n",
    "                        SUM(final_transaction_amount1) AS sum_second_condition\n",
    "                    FROM\n",
    "                        bop_test_cases\n",
    "                    WHERE\n",
    "                        {second_condition} = '{second_choice}'\n",
    "                ) second_sum;\n",
    "        \"\"\"\n",
    "    questions_and_queries.append({\"question\": question, \"sql_query\": sql_query})\n",
    "#     questions_and_queries.append({\"db_id\": \"bop\",\"question\": question,\"evidence\": \"\", \"SQL\": \"\"})\n"
   ]
  },
  {
   "cell_type": "code",
   "execution_count": 17,
   "metadata": {},
   "outputs": [],
   "source": [
    "# questions_and_queries = []\n",
    "for i in range(5):\n",
    "    flag = random.randint(0,1)\n",
    "    random_code = random.choice(codes)\n",
    "    random_branch = random.choice(branches)\n",
    "    random_payment_type = random.choice(payment_types)\n",
    "\n",
    "    choices = [\n",
    "        (random_code, 'customer_transaction_code1'),\n",
    "        (random_branch, 'branch'),\n",
    "        (random_payment_type, 'payment_type')\n",
    "    ]\n",
    "\n",
    "    final_choice, condition = random.choice(choices)\n",
    "    if(flag):\n",
    "        question = f\"Return the smallest customer_transaction_amount1 of data with {condition} = {final_choice}.\"\n",
    "        sql_query = f\"\"\"\n",
    "        SELECT MIN(customer_transaction_amount1) AS smallest_amount\n",
    "        FROM bop_test_cases\n",
    "        WHERE {condition} = '{final_choice}';\n",
    "        \"\"\"\n",
    "    else:\n",
    "        question = f\"Return the highest customer_transaction_amount1 of data with {condition} = {final_choice}.\"\n",
    "        sql_query = f\"\"\"\n",
    "        SELECT MAX(customer_transaction_amount1) AS highest_amount\n",
    "        FROM bop_test_cases\n",
    "        WHERE {condition} = '{final_choice}';\n",
    "        \"\"\"\n",
    "    questions_and_queries.append({\"question\": question, \"sql_query\": sql_query})\n",
    "#     questions_and_queries.append({\"db_id\": \"bop\",\"question\": question,\"evidence\": \"\", \"SQL\": \"\"})\n"
   ]
  },
  {
   "cell_type": "code",
   "execution_count": 18,
   "metadata": {},
   "outputs": [],
   "source": [
    "import json\n",
    "\n",
    "# 写入到 JSON 文件，指定 ensure_ascii=False\n",
    "with open('output.json', 'w', encoding='GBK') as f:\n",
    "    json.dump(questions_and_queries, f, ensure_ascii=False,indent=2)\n"
   ]
  },
  {
   "cell_type": "code",
   "execution_count": 20,
   "metadata": {},
   "outputs": [
    {
     "name": "stdout",
     "output_type": "stream",
     "text": [
      "['What is the top 11 branches (along with their amounts) with the smallest customer_transaction_amount1.', 'What is the top 72 branches (along with their amounts) with the smallest customer_transaction_amount1.', 'What is the top 26 branches (along with their amounts) with the smallest customer_transaction_amount1.', 'What is the top 43 branches (along with their amounts) with the smallest customer_transaction_amount1.', 'What is  the top 83 branches (along with their amounts) with the highest customer_transaction_amount1.', 'Return all data with customer_transaction_amount1 as 77547.16 and final_transaction_amount1 as 77450.', 'Return all data with final_transaction_code1 as 228031-建筑、工程技术服务 and payment_type as 其他.', 'Return all data with branch as GZH and final_transaction_code1 as 121010-一般贸易.', 'Return all data with final_transaction_code1 as 121010-一般贸易 and customer_transaction_amount1 as 28662.0.', 'Return all data with customer_transaction_postscript1 as 一般贸易项下进口催化剂及化学制品货款支出 and customer_transaction_amount1 as 802831.0.', 'Return the sum of all final_transaction_amount1 with branch as TJN.', 'Return the sum of all final_transaction_amount1 with payment_type as 货到付款.', 'Return the sum of all final_transaction_amount1 with payment_type as 预付货款.', 'Return the sum of all customer_transaction_amount1 with branch as SHH.', 'Return the sum of all final_transaction_amount1 with payment_type as 预付货款.', 'Return the highest customer_transaction_amount1 of data with payment_type = 预付货款.', 'Return the smallest customer_transaction_amount1 of data with customer_transaction_code1 = 229020.', 'Return the highest customer_transaction_amount1 of data with payment_type = 其他.', 'Return the smallest customer_transaction_amount1 of data with customer_transaction_code1 = 228990.', 'Return the highest customer_transaction_amount1 of data with payment_type = 其他.']\n"
     ]
    }
   ],
   "source": [
    "with open('output.json', 'r' ,encoding='GBK') as f:\n",
    "    data = json.load(f)\n",
    "questions = [data[i]['question'] for i in range(len(data))]\n",
    "print(questions)"
   ]
  },
  {
   "cell_type": "code",
   "execution_count": null,
   "metadata": {},
   "outputs": [],
   "source": []
  }
 ],
 "metadata": {
  "kernelspec": {
   "display_name": "Python 3 (ipykernel)",
   "language": "python",
   "name": "python3"
  },
  "language_info": {
   "codemirror_mode": {
    "name": "ipython",
    "version": 3
   },
   "file_extension": ".py",
   "mimetype": "text/x-python",
   "name": "python",
   "nbconvert_exporter": "python",
   "pygments_lexer": "ipython3",
   "version": "3.9.15"
  }
 },
 "nbformat": 4,
 "nbformat_minor": 2
}
